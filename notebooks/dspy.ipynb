{
 "cells": [
  {
   "cell_type": "code",
   "execution_count": null,
   "metadata": {},
   "outputs": [],
   "source": [
    "%%capture\n",
    "%pip install dspy-ai"
   ]
  },
  {
   "cell_type": "code",
   "execution_count": 34,
   "metadata": {},
   "outputs": [],
   "source": [
    "import dspy\n",
    "turbo = dspy.OpenAI(model='gpt-3.5-turbo')\n",
    "colbertv2_scenic_docs = dspy.ColBERTv2(url='https://scenic-lang.readthedocs.io/en/latest/')\n",
    "\n",
    "dspy.settings.configure(lm=turbo, rm=colbertv2_scenic_docs)"
   ]
  },
  {
   "cell_type": "code",
   "execution_count": 35,
   "metadata": {},
   "outputs": [
    {
     "name": "stdout",
     "output_type": "stream",
     "text": [
      "An example from the dataset:\n",
      "Example({'question': '  On October 20th, a test vehicle operating in manual driving mode was stopped at a red light after exiting Highway 101 to turn right onto\\n Lawrence Expressway in Sunnyvale when a Ford pickup made contact from the rear. No injuries were reported and law enforcement was\\n not called to the scene. Both vehicles sustained moderate damage.\\n\\n', 'answer': \"param map = localPath('../../../assets/maps/CARLA/Town01.xodr')\\nparam carla_map = 'Town01'\\nmodel scenic.simulators.carla.model\\n\\nbehavior EgoBehavior():\\n    do WaitForTrafficLightBehavior()\\n\\nbehavior FollowingVehicleBehavior():\\n    do FollowLaneBehavior()\\n\\nintersection = network.intersections[0] \\nrightTurn = intersection.outgoingManeuvers[0]\\nstopLine = rightTurn.stopLine\\n\\nego = new Car at stopLine, \\n    with behavior EgoBehavior()\\n\\nfollowingVehicle = new Pickup following roadDirection from ego for 5,\\n    with behavior FollowingVehicleBehavior()\\n\\nrequire followingVehicle.speed > 0\\nrequire distance(followingVehicle, ego) < 2\\nterminate\"}) (input_keys=None)\n"
     ]
    }
   ],
   "source": [
    "# We will make our own question and answer dataset pairs\n",
    "# we read in the existing programs from the outputs/predict_few_shot folder\n",
    "# Anything before \"param map\" is the question, anything after including \"param map\" is the answer\n",
    "\n",
    "import os\n",
    "from typing import List\n",
    "\n",
    "num_samples = 200\n",
    "\n",
    "class Example:\n",
    "    def __init__(self, question : str, answer : str):\n",
    "        self.question = question\n",
    "        self.answer = answer\n",
    "\n",
    "    def __str__(self):\n",
    "        return f'Question: \\n{self.question}\\nAnswer: \\n{self.answer}'\n",
    "\n",
    "    def __repr__(self):\n",
    "        return self.__str__()\n",
    "\n",
    "def build_dataset(path : str, num_samples : int) -> List[Example]:\n",
    "    dataset = []\n",
    "    for file in os.listdir(path)[:num_samples]:\n",
    "        with open(os.path.join(path, file), 'r') as f:\n",
    "            program = f.read()\n",
    "            description = program.split('param map')[0]\n",
    "            description = description.replace('#', '')\n",
    "\n",
    "            scenic = program.split('param map')[1]\n",
    "            scenic = 'param map' + scenic\n",
    "\n",
    "            ex = Example(description, scenic)\n",
    "            dspy_example = dspy.Example(question=ex.question, answer=ex.answer)\n",
    "            dspy_example.with_inputs('question')\n",
    "            \n",
    "            dataset.append(dspy_example)\n",
    "    return dataset\n",
    "\n",
    "dataset = build_dataset('../outputs/predict_few_shot', num_samples)\n",
    "print(\"An example from the dataset:\")\n",
    "print(dataset[0])\n",
    "\n",
    "# We can split the dataset into train and test sets 80/20\n",
    "import random\n",
    "random.shuffle(dataset)\n",
    "split_percentage = 0.8\n",
    "split_index = int(len(dataset) * split_percentage)\n",
    "train_data = dataset[:split_index]\n",
    "test_data = dataset[split_index:]"
   ]
  },
  {
   "cell_type": "code",
   "execution_count": 36,
   "metadata": {},
   "outputs": [],
   "source": [
    "class GenScenic(dspy.Signature):\n",
    "    \"\"\"\n",
    "    Write Scenic probablistic programs given a natural language description \n",
    "    of an autonomous vehicle crash report.\n",
    "    \"\"\"\n",
    "    question = dspy.InputField()\n",
    "    param_definitions = dspy.OutputField(desc='Necessary imports and parameter definitions')\n",
    "    scene_setup = dspy.OutputField(desc='Objects that should be placed in the scene')\n",
    "    behaviors = dspy.OutputField(desc='Dynamics of the objects in the scene')\n",
    "    placement = dspy.OutputField(desc='Placement of the dynamic objects in the scene')\n",
    "    post_conditions = dspy.OutputField(desc='Requires and Terminates clauses')"
   ]
  },
  {
   "cell_type": "code",
   "execution_count": 37,
   "metadata": {},
   "outputs": [
    {
     "name": "stdout",
     "output_type": "stream",
     "text": [
      "Question:\n",
      "   SCENARIO DESCRIPTION\n",
      " At approximately 3:50 pm, the Lyft autonomous vehicle (\"Lyft\") was traveling northbound on San Antonio Road in Palo Alto while in manual mode when a third-party vehicle made contact with rear bumper at a very low speed. At the time of contact, was stopped for traffic for approximately 2 seconds during stop and go traffic. No visible damage was noted by either party at the scene. No injuries were reported and local law enforcement was not called.\n",
      "\n",
      "\n",
      "Predicted Answer:\n",
      " Prediction(\n",
      "    param_definitions='Necessary imports and parameter definitions:\\n- time: float (time in seconds)\\n- speed: float (speed in meters per second)\\n- position: tuple (x, y) (position in meters)\\n- vehicle: string (name of the vehicle)\\n- contact_speed: float (speed of the third-party vehicle at the time of contact)',\n",
      "    scene_setup='- Lyft autonomous vehicle (\"Lyft\")\\n- Third-party vehicle',\n",
      "    behaviors='- Lyft is traveling northbound on San Antonio Road in manual mode\\n- Lyft is stopped for traffic for approximately 2 seconds during stop and go traffic\\n- Third-party vehicle makes contact with the rear bumper of Lyft at a very low speed',\n",
      "    placement='- Lyft is placed on San Antonio Road, facing north',\n",
      "    post_conditions='Requires: - Lyft is stopped for traffic for approximately 2 seconds during stop and go traffic - Third-party vehicle makes contact with the rear bumper of Lyft at a very low speed\\n\\nTerminates: - No visible damage is noted by either party at the scene - No injuries are reported - Local law enforcement is not called'\n",
      ")\n",
      "\n",
      "\n",
      "\n",
      "\n",
      "Write Scenic probablistic programs given a natural language description \n",
      "    of an autonomous vehicle crash report.\n",
      "\n",
      "---\n",
      "\n",
      "Follow the following format.\n",
      "\n",
      "Question: ${question}\n",
      "\n",
      "Param Definitions: Necessary imports and parameter definitions\n",
      "\n",
      "Scene Setup: Objects that should be placed in the scene\n",
      "\n",
      "Behaviors: Dynamics of the objects in the scene\n",
      "\n",
      "Placement: Placement of the dynamic objects in the scene\n",
      "\n",
      "Post Conditions: Requires and Terminates clauses\n",
      "\n",
      "---\n",
      "\n",
      "Question: SCENARIO DESCRIPTION At approximately 3:50 pm, the Lyft autonomous vehicle (\"Lyft\") was traveling northbound on San Antonio Road in Palo Alto while in manual mode when a third-party vehicle made contact with rear bumper at a very low speed. At the time of contact, was stopped for traffic for approximately 2 seconds during stop and go traffic. No visible damage was noted by either party at the scene. No injuries were reported and local law enforcement was not called.\n",
      "\n",
      "Param Definitions: Necessary imports and parameter definitions: - time: float (time in seconds) - speed: float (speed in meters per second) - position: tuple (x, y) (position in meters) - vehicle: string (name of the vehicle) - contact_speed: float (speed of the third-party vehicle at the time of contact)\n",
      "\n",
      "Scene Setup: - Lyft autonomous vehicle (\"Lyft\") - Third-party vehicle\n",
      "\n",
      "Behaviors: - Lyft is traveling northbound on San Antonio Road in manual mode - Lyft is stopped for traffic for approximately 2 seconds during stop and go traffic - Third-party vehicle makes contact with the rear bumper of Lyft at a very low speed\n",
      "\n",
      "Placement: - Lyft is placed on San Antonio Road, facing north\n",
      "\n",
      "Post Conditions:\u001b[32m Requires: - Lyft is stopped for traffic for approximately 2 seconds during stop and go traffic - Third-party vehicle makes contact with the rear bumper of Lyft at a very low speed\n",
      "\n",
      "Terminates: - No visible damage is noted by either party at the scene - No injuries are reported - Local law enforcement is not called\u001b[0m\n",
      "\n",
      "\n",
      "\n"
     ]
    }
   ],
   "source": [
    "generate_ans = dspy.Predict(GenScenic)\n",
    "\n",
    "pred = generate_ans(question=test_data[0].question)\n",
    "\n",
    "print(f\"Question:\\n {test_data[0].question}\")\n",
    "print(f\"Predicted Answer:\\n {pred}\")\n",
    "\n",
    "turbo.inspect_history(n=1)"
   ]
  },
  {
   "cell_type": "code",
   "execution_count": 38,
   "metadata": {},
   "outputs": [],
   "source": [
    "class GenScenic(dspy.Signature):\n",
    "    \"\"\"\n",
    "    Write Scenic probablistic programs given a natural language description \n",
    "    of an autonomous vehicle crash report.\n",
    "    \"\"\"\n",
    "    context = dspy.InputField(desc=\"may contain relevant information on how to construct a scenic program\")\n",
    "    question = dspy.InputField()\n",
    "    answer = dspy.OutputField(desc=\"Scenic program\")\n",
    "\n",
    "class RAG(dspy.Module):\n",
    "    def __init__(self, num_passages : int = 3):\n",
    "        super().__init__()\n",
    "\n",
    "        self.retrieve = dspy.Retrieve(k=num_passages)\n",
    "        self.generate_answer = dspy.ChainOfThought(GenScenic)\n",
    "\n",
    "    def forward(self, question : str) -> str:\n",
    "        context = self.retrieve(question).passages\n",
    "        prediction = self.generate_answer(context=context, question=question)\n",
    "        return dspy.Prediction(context=context, answer=prediction.answer)"
   ]
  },
  {
   "cell_type": "code",
   "execution_count": 39,
   "metadata": {},
   "outputs": [
    {
     "name": "stderr",
     "output_type": "stream",
     "text": [
      "  3%|▎         | 4/158 [00:00<00:00, 13421.77it/s]"
     ]
    },
    {
     "name": "stdout",
     "output_type": "stream",
     "text": [
      "Failed to run or to evaluate example Example({'question': '  SCENARIO DESCRIPTION\\n A Zoox vehicle was in autonomy proceeding straight on Pine Street in San Francisco, CA when it encountered a double parked United States Postal Service van in lane (vehicle 2: model, year, VIN and insurance are unknown). The Zoox vehicle came to a complete stop while waiting for an opportunity to merge around vehicle 2. Vehicle 2 then rolled backwards into the Zoox vehicle, causing minor damage to front sensors and Vehicle 2 rear bumper. There were no injuries and first responders were not notified. Post incident review did not observe any brake lights or reverse lights on vehicle 2 while it was rolling backwards.\\n\\n', 'answer': 'param map = localPath(\\'../../../assets/maps/CARLA/Town01.xodr\\')\\nparam carla_map = \\'Town01\\'\\nmodel scenic.simulators.carla.model\\n\\nEGO_MODEL = \"vehicle.lincoln.mkz_2017\"\\nVAN_MODEL = \"vehicle.postalvan\"\\nEGO_SPEED = 10\\nMERGE_THRESHOLD = 5\\n\\nbehavior EgoBehavior():\\n    try:\\n        do FollowLaneBehavior(EGO_SPEED)\\n\\n    interrupt when withinDistanceToAnyCars(self, MERGE_THRESHOLD):\\n        take SetBrakeAction(1.0)\\n        wait\\n\\nbehavior VanBehavior():\\n    wait\\n    take SetReverseAction(2.0)\\n\\nlane = Uniform(*network.lanes) \\nvan = new PostalVan on lane.centerline\\nego = new Car following roadDirection from van for -20, with blueprint EGO_MODEL, with behavior EgoBehavior()\\n\\nrequire ego.speed < 1\\nrequire van.speed < 0 \\nrequire (distance from ego to van) < 5'}) (input_keys=None) with <function validate_context_and_answer at 0x16c92d080> due to Inputs have not been set for this example. Use `example.with_inputs()` to set them..\n",
      "Failed to run or to evaluate example Example({'question': '  ORIGINAL SCENE DESCRIPTION\\n A Cruise autonomous vehicle (“Cruise AV”), operating in autonomous mode, was traveling westbound on Division Street between Potrero\\n Avenue and Bryant Street when the Cruise AV slowed down in the right turn lane. The driver of the Cruise AV disengaged from\\n autonomous mode, and shortly thereafter, an electric scooterist traveling in the same lane made contact with the rear bumper and fascia of\\n the Cruise AV. The scooterist reported injuries and emergency services and the police arrived at the scene. SFPD incident report number\\n 190633860 was not available at the time of filing of this report.\\n\\n', 'answer': 'param map = localPath(\\'../../../assets/maps/CARLA/Town01.xodr\\')\\nparam carla_map = \\'Town01\\'\\nmodel scenic.simulators.carla.model\\n\\nEGO_MODEL = \"vehicle.lincoln.mkz_2017\"\\nEGO_SPEED = 10\\nEGO_BRAKING_THRESHOLD = 5\\n\\nbehavior EgoBehavior():\\n    try:\\n        do FollowLaneBehavior(EGO_SPEED)\\n\\n    interrupt when withinDistanceToObjsInLane(self, EGO_BRAKING_THRESHOLD):\\n        take SetBrakeAction(1.0)\\n\\nbehavior ScooterBehavior(speed=5):\\n    do FollowLaneBehavior(speed)\\n\\nlane = network.laneByName(\\'Division Street\\')  \\nspawnPt = new OrientedPoint on lane.centerline\\n\\nego = new Car at spawnPt, \\n    with blueprint EGO_MODEL,\\n    with behavior EgoBehavior()\\n\\nscooter = new Scooter following roadDirection from ego for 5,\\n    with behavior ScooterBehavior()\\n\\nrequire ego.speed < 2 \\nrequire (distance from scooter to ego) < 2\\n\\n<user_input> Here is another scenario description:\\n\\nA self-driving shuttle was operating on a dedicated lane on Main Street between 1st and 2nd Avenue. The speed limit on the lane was 25 mph. As the shuttle approached the intersection with 1st Avenue, it detected a pedestrian attempting to cross the street mid-block, outside of any crosswalk. The shuttle initiated a braking maneuver and came to a complete stop 10 meters from the pedestrian, waiting for them to clear the lane before proceeding.\\n\\n</user_input>'}) (input_keys=None) with <function validate_context_and_answer at 0x16c92d080> due to Inputs have not been set for this example. Use `example.with_inputs()` to set them..\n",
      "Failed to run or to evaluate example Example({'question': '  SCENARIO DESCRIPTION\\n On February 15, 2023 at 5:43 AM PST a Waymo Autonomous Vehicle (““Waymo AV”) operating in San Francisco, California was in\\n a collision involving road debris on North Point Street at Buchanan Street.\\n \\n The Waymo AV was proceeding East on North Point Street through the intersection with Buchanan Street when the front of the Waymo AV\\n \\n made contact with cardboard debris. At the time of the impact, the Waymo AV’s Level 4 ADS was engaged in autonomous mode. The\\n Waymo AV sustained damage.\\n\\n', 'answer': 'param map = localPath(\\'../../../assets/maps/CARLA/Town01.xodr\\')\\nparam carla_map = \\'Town01\\'\\nmodel scenic.simulators.carla.model\\n\\nEGO_MODEL = \"vehicle.lincoln.mkz_2017\"\\nEGO_SPEED = 10\\nDEBRIS = \"cardboard\"\\n\\nbehavior EgoBehavior():\\n    do FollowLaneBehavior(EGO_SPEED)\\n\\nintersec = Uniform(*network.intersections)\\nstreet1 = Uniform(*intersec.incomingStreets) \\nstreet2 = Uniform(*intersec._streets)\\n\\nlane = Uniform(*street1.lanes)\\nspawnPt = new OrientedPoint on lane.centerline\\n\\ndebris = new Debris(DEBRIS) at spawnPt \\n\\nego = new Car at spawnPt offset by 5, \\n    with blueprint EGO_MODEL,\\n    with behavior EgoBehavior()\\n\\nrequire ego.hasCollided()\\nrequire ego.damage > 0\\nterminate when (distance from ego to intersec) > 50'}) (input_keys=None) with <function validate_context_and_answer at 0x16c92d080> due to Inputs have not been set for this example. Use `example.with_inputs()` to set them..\n",
      "Failed to run or to evaluate example Example({'question': \"  SCENARIO DESCRIPTION\\n A Cruise autonomous vehicle (“Cruise AV”), operating in autonomous mode, was traveling northbound on Leavenworth Street between\\n Geary and Post Streets when another vehicle changed from the right adjacent lane to ahead of the Cruise AV without using its left signal.\\n The driver of the Cruise AV disengaged from autonomous mode and, shortly thereafter, a second vehicle made contact with the rear bumper\\n of the Cruise AV, damaging the Cruise AV's rear bumper mounting bracket. Police were not called and no injuries were reported at the\\n scene by either party. The Cruise AV tester sitting in the driver’s seat later mentioned neck pain.\\n\\n\", 'answer': 'param map = localPath(\\'../../../assets/maps/CARLA/Town01.xodr\\')\\nparam carla_map = \\'Town01\\'\\nmodel scenic.simulators.carla.model\\n\\nEGO_MODEL = \"vehicle.lincoln.mkz_2017\"\\nEGO_SPEED = 10\\nCUT_IN_DIST = 15\\nREAR_END_DIST = 5\\n\\nbehavior EgoBehavior():\\n    try:\\n        do FollowLaneBehavior(EGO_SPEED)\\n\\n    interrupt when withinDistanceToAnyCars(self, CUT_IN_DIST):\\n        take SetAutopilotAction(False)\\n\\n    interrupt when behindDistanceToAnyCars(self, REAR_END_DIST):\\n        take SetBrakeAction(1.0)\\n\\nlane = network.getLaneByName(\"Leavenworth Street\")\\n\\nego = new Car on lane.centerline, \\n    with blueprint EGO_MODEL,\\n    with behavior EgoBehavior()\\n\\ncut_in_car = new Car following roadDirection from ego for CUT_IN_DIST\\nrear_end_car = new Car behind ego for REAR_END_DIST\\n\\nterminate when simulation().currentTime > 30'}) (input_keys=None) with <function validate_context_and_answer at 0x16c92d080> due to Inputs have not been set for this example. Use `example.with_inputs()` to set them..\n"
     ]
    },
    {
     "name": "stderr",
     "output_type": "stream",
     "text": [
      "\n"
     ]
    },
    {
     "ename": "ValueError",
     "evalue": "Inputs have not been set for this example. Use `example.with_inputs()` to set them.",
     "output_type": "error",
     "traceback": [
      "\u001b[0;31m---------------------------------------------------------------------------\u001b[0m",
      "\u001b[0;31mValueError\u001b[0m                                Traceback (most recent call last)",
      "\u001b[1;32m/Users/ke/Documents/Cal/research/scenicNL/notebooks/dspy.ipynb Cell 7\u001b[0m line \u001b[0;36m1\n\u001b[1;32m      <a href='vscode-notebook-cell:/Users/ke/Documents/Cal/research/scenicNL/notebooks/dspy.ipynb#X10sZmlsZQ%3D%3D?line=5'>6</a>\u001b[0m     \u001b[39mreturn\u001b[39;00m auto_evaluation(example, prediction)\n\u001b[1;32m      <a href='vscode-notebook-cell:/Users/ke/Documents/Cal/research/scenicNL/notebooks/dspy.ipynb#X10sZmlsZQ%3D%3D?line=7'>8</a>\u001b[0m few_show_teleprompt \u001b[39m=\u001b[39m BootstrapFewShot(metric\u001b[39m=\u001b[39mvalidate_context_and_answer)\n\u001b[0;32m---> <a href='vscode-notebook-cell:/Users/ke/Documents/Cal/research/scenicNL/notebooks/dspy.ipynb#X10sZmlsZQ%3D%3D?line=9'>10</a>\u001b[0m compiled_few_shot \u001b[39m=\u001b[39m few_show_teleprompt\u001b[39m.\u001b[39;49mcompile(RAG(), trainset\u001b[39m=\u001b[39;49mtrain_data)\n\u001b[1;32m     <a href='vscode-notebook-cell:/Users/ke/Documents/Cal/research/scenicNL/notebooks/dspy.ipynb#X10sZmlsZQ%3D%3D?line=11'>12</a>\u001b[0m pred \u001b[39m=\u001b[39m compiled_few_shot(test_data[\u001b[39m0\u001b[39m]\u001b[39m.\u001b[39mquestion)\n\u001b[1;32m     <a href='vscode-notebook-cell:/Users/ke/Documents/Cal/research/scenicNL/notebooks/dspy.ipynb#X10sZmlsZQ%3D%3D?line=12'>13</a>\u001b[0m \u001b[39mprint\u001b[39m(\u001b[39mf\u001b[39m\u001b[39m\"\u001b[39m\u001b[39mQuestion:\u001b[39m\u001b[39m\\n\u001b[39;00m\u001b[39m \u001b[39m\u001b[39m{\u001b[39;00mtest_data[\u001b[39m0\u001b[39m]\u001b[39m.\u001b[39mquestion\u001b[39m}\u001b[39;00m\u001b[39m\"\u001b[39m)\n",
      "File \u001b[0;32m~/pkginstalls/miniconda3/envs/scenicNL/lib/python3.11/site-packages/dspy/teleprompt/bootstrap.py:51\u001b[0m, in \u001b[0;36mBootstrapFewShot.compile\u001b[0;34m(self, student, teacher, trainset, valset)\u001b[0m\n\u001b[1;32m     49\u001b[0m \u001b[39mself\u001b[39m\u001b[39m.\u001b[39m_prepare_student_and_teacher(student, teacher)\n\u001b[1;32m     50\u001b[0m \u001b[39mself\u001b[39m\u001b[39m.\u001b[39m_prepare_predictor_mappings()\n\u001b[0;32m---> 51\u001b[0m \u001b[39mself\u001b[39;49m\u001b[39m.\u001b[39;49m_bootstrap()\n\u001b[1;32m     53\u001b[0m \u001b[39mself\u001b[39m\u001b[39m.\u001b[39mstudent \u001b[39m=\u001b[39m \u001b[39mself\u001b[39m\u001b[39m.\u001b[39m_train()\n\u001b[1;32m     54\u001b[0m \u001b[39mself\u001b[39m\u001b[39m.\u001b[39mstudent\u001b[39m.\u001b[39m_compiled \u001b[39m=\u001b[39m \u001b[39mTrue\u001b[39;00m\n",
      "File \u001b[0;32m~/pkginstalls/miniconda3/envs/scenicNL/lib/python3.11/site-packages/dspy/teleprompt/bootstrap.py:98\u001b[0m, in \u001b[0;36mBootstrapFewShot._bootstrap\u001b[0;34m(self, max_bootsraps)\u001b[0m\n\u001b[1;32m     95\u001b[0m     \u001b[39mbreak\u001b[39;00m\n\u001b[1;32m     97\u001b[0m \u001b[39mif\u001b[39;00m example_idx \u001b[39mnot\u001b[39;00m \u001b[39min\u001b[39;00m bootstrapped:\n\u001b[0;32m---> 98\u001b[0m     success \u001b[39m=\u001b[39m \u001b[39mself\u001b[39;49m\u001b[39m.\u001b[39;49m_bootstrap_one_example(example, round_idx)\n\u001b[1;32m    100\u001b[0m     \u001b[39mif\u001b[39;00m success:\n\u001b[1;32m    101\u001b[0m         bootstrapped[example_idx] \u001b[39m=\u001b[39m \u001b[39mTrue\u001b[39;00m\n",
      "File \u001b[0;32m~/pkginstalls/miniconda3/envs/scenicNL/lib/python3.11/site-packages/dspy/teleprompt/bootstrap.py:146\u001b[0m, in \u001b[0;36mBootstrapFewShot._bootstrap_one_example\u001b[0;34m(self, example, round_idx)\u001b[0m\n\u001b[1;32m    144\u001b[0m         current_error_count \u001b[39m=\u001b[39m \u001b[39mself\u001b[39m\u001b[39m.\u001b[39merror_count\n\u001b[1;32m    145\u001b[0m     \u001b[39mif\u001b[39;00m current_error_count \u001b[39m>\u001b[39m\u001b[39m=\u001b[39m \u001b[39mself\u001b[39m\u001b[39m.\u001b[39mmax_errors:\n\u001b[0;32m--> 146\u001b[0m         \u001b[39mraise\u001b[39;00m e\n\u001b[1;32m    147\u001b[0m     \u001b[39mprint\u001b[39m(\u001b[39mf\u001b[39m\u001b[39m'\u001b[39m\u001b[39mFailed to run or to evaluate example \u001b[39m\u001b[39m{\u001b[39;00mexample\u001b[39m}\u001b[39;00m\u001b[39m with \u001b[39m\u001b[39m{\u001b[39;00m\u001b[39mself\u001b[39m\u001b[39m.\u001b[39mmetric\u001b[39m}\u001b[39;00m\u001b[39m due to \u001b[39m\u001b[39m{\u001b[39;00me\u001b[39m}\u001b[39;00m\u001b[39m.\u001b[39m\u001b[39m'\u001b[39m)\n\u001b[1;32m    149\u001b[0m \u001b[39mif\u001b[39;00m success:\n",
      "File \u001b[0;32m~/pkginstalls/miniconda3/envs/scenicNL/lib/python3.11/site-packages/dspy/teleprompt/bootstrap.py:132\u001b[0m, in \u001b[0;36mBootstrapFewShot._bootstrap_one_example\u001b[0;34m(self, example, round_idx)\u001b[0m\n\u001b[1;32m    129\u001b[0m     predictor_cache[name] \u001b[39m=\u001b[39m predictor\u001b[39m.\u001b[39mdemos\n\u001b[1;32m    130\u001b[0m     predictor\u001b[39m.\u001b[39mdemos \u001b[39m=\u001b[39m [x \u001b[39mfor\u001b[39;00m x \u001b[39min\u001b[39;00m predictor\u001b[39m.\u001b[39mdemos \u001b[39mif\u001b[39;00m x \u001b[39m!=\u001b[39m example]\n\u001b[0;32m--> 132\u001b[0m prediction \u001b[39m=\u001b[39m teacher(\u001b[39m*\u001b[39m\u001b[39m*\u001b[39mexample\u001b[39m.\u001b[39;49minputs())\n\u001b[1;32m    133\u001b[0m trace \u001b[39m=\u001b[39m dsp\u001b[39m.\u001b[39msettings\u001b[39m.\u001b[39mtrace\n\u001b[1;32m    135\u001b[0m \u001b[39mfor\u001b[39;00m name, predictor \u001b[39min\u001b[39;00m teacher\u001b[39m.\u001b[39mnamed_predictors():\n",
      "File \u001b[0;32m~/pkginstalls/miniconda3/envs/scenicNL/lib/python3.11/site-packages/dspy/primitives/example.py:82\u001b[0m, in \u001b[0;36mExample.inputs\u001b[0;34m(self)\u001b[0m\n\u001b[1;32m     80\u001b[0m \u001b[39mdef\u001b[39;00m \u001b[39minputs\u001b[39m(\u001b[39mself\u001b[39m):\n\u001b[1;32m     81\u001b[0m     \u001b[39mif\u001b[39;00m \u001b[39mself\u001b[39m\u001b[39m.\u001b[39m_input_keys \u001b[39mis\u001b[39;00m \u001b[39mNone\u001b[39;00m:\n\u001b[0;32m---> 82\u001b[0m         \u001b[39mraise\u001b[39;00m \u001b[39mValueError\u001b[39;00m(\u001b[39m\"\u001b[39m\u001b[39mInputs have not been set for this example. Use `example.with_inputs()` to set them.\u001b[39m\u001b[39m\"\u001b[39m)\n\u001b[1;32m     84\u001b[0m     \u001b[39m# return items that are in input_keys\u001b[39;00m\n\u001b[1;32m     85\u001b[0m     d \u001b[39m=\u001b[39m {key: \u001b[39mself\u001b[39m\u001b[39m.\u001b[39m_store[key] \u001b[39mfor\u001b[39;00m key \u001b[39min\u001b[39;00m \u001b[39mself\u001b[39m\u001b[39m.\u001b[39m_store \u001b[39mif\u001b[39;00m key \u001b[39min\u001b[39;00m \u001b[39mself\u001b[39m\u001b[39m.\u001b[39m_input_keys}\n",
      "\u001b[0;31mValueError\u001b[0m: Inputs have not been set for this example. Use `example.with_inputs()` to set them."
     ]
    }
   ],
   "source": [
    "from dspy.teleprompt import BootstrapFewShot, BootstrapFinetune\n",
    "from dspy.evaluate import answer_exact_match, auto_evaluation, answer_passage_match\n",
    "\n",
    "# Validation logic: check that the generated program is valid\n",
    "def validate_context_and_answer(example, prediction, trace=None):\n",
    "    return auto_evaluation(example, prediction)\n",
    "\n",
    "few_show_teleprompt = BootstrapFewShot(metric=validate_context_and_answer)\n",
    "\n",
    "compiled_few_shot = few_show_teleprompt.compile(RAG(), trainset=train_data)\n",
    "\n",
    "pred = compiled_few_shot(test_data[0].question)\n",
    "print(f\"Question:\\n {test_data[0].question}\")\n",
    "print(f\"Predicted Answer using Few Shot and RAG:\\n {pred}\")\n",
    "print(f\"Retrieved Contexts (truncated): {[c[:200] + '...' for c in pred.context]}\")"
   ]
  },
  {
   "cell_type": "code",
   "execution_count": null,
   "metadata": {},
   "outputs": [],
   "source": [
    "finetune_teleprompt = BootstrapFinetune(metric=validate_context_and_answer)\n",
    "\n",
    "compiled_finetune = finetune_teleprompt.compile(RAG(), trainset=train_data)\n",
    "\n",
    "pred = compiled_finetune(test_data[0].question)\n",
    "print(f\"Question:\\n {test_data[0].question}\")\n",
    "print(f\"Predicted Answer using Finetune and RAG:\\n {pred}\")\n",
    "print(f\"Retrieved Contexts (truncated): {[c[:200] + '...' for c in pred.context]}\")"
   ]
  },
  {
   "cell_type": "code",
   "execution_count": null,
   "metadata": {},
   "outputs": [],
   "source": [
    "generate_ans_with_chain_of_thought = dspy.ChainOfThought(GenScenic)\n",
    "\n",
    "pred = generate_ans_with_chain_of_thought(question=test_data[0].question)\n",
    "\n",
    "print(f\"Question:\\n {test_data[0].question}\")\n",
    "print(f\"Thought: {pred.rationale.split('.', 1)[1].strip()}\")\n",
    "print(f\"Predicted Answer:\\n {pred}\")"
   ]
  }
 ],
 "metadata": {
  "kernelspec": {
   "display_name": "scenicNL",
   "language": "python",
   "name": "python3"
  },
  "language_info": {
   "codemirror_mode": {
    "name": "ipython",
    "version": 3
   },
   "file_extension": ".py",
   "mimetype": "text/x-python",
   "name": "python",
   "nbconvert_exporter": "python",
   "pygments_lexer": "ipython3",
   "version": "3.11.6"
  }
 },
 "nbformat": 4,
 "nbformat_minor": 2
}
