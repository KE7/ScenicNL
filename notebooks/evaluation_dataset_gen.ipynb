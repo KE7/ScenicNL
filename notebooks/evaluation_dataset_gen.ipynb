{
 "cells": [
  {
   "cell_type": "code",
   "execution_count": 15,
   "metadata": {},
   "outputs": [],
   "source": [
    "import numpy as np\n",
    "import os\n",
    "import shutil\n",
    "from tqdm import tqdm"
   ]
  },
  {
   "cell_type": "code",
   "execution_count": 13,
   "metadata": {},
   "outputs": [],
   "source": [
    "datadir = \"../report-txts/\"\n",
    "files = os.listdir(datadir)"
   ]
  },
  {
   "cell_type": "code",
   "execution_count": 10,
   "metadata": {},
   "outputs": [],
   "source": [
    "eval_files = np.random.choice(files, size=100, replace=False)"
   ]
  },
  {
   "cell_type": "code",
   "execution_count": 11,
   "metadata": {},
   "outputs": [],
   "source": [
    "qualitative_files =  np.random.choice(eval_files, size=30, replace=False)"
   ]
  },
  {
   "cell_type": "code",
   "execution_count": 12,
   "metadata": {},
   "outputs": [],
   "source": [
    "os.mkdir('../eval_txts')\n",
    "os.mkdir('../eval_txts/qualitative_txts')"
   ]
  },
  {
   "cell_type": "code",
   "execution_count": 16,
   "metadata": {},
   "outputs": [
    {
     "name": "stderr",
     "output_type": "stream",
     "text": [
      "100%|███████████████████████████████████████| 100/100 [00:00<00:00, 1636.60it/s]\n"
     ]
    }
   ],
   "source": [
    "for file in tqdm(eval_files):\n",
    "    shutil.copyfile(datadir + file, '../eval_txts/' + file)"
   ]
  },
  {
   "cell_type": "code",
   "execution_count": 18,
   "metadata": {},
   "outputs": [
    {
     "name": "stderr",
     "output_type": "stream",
     "text": [
      "100%|█████████████████████████████████████████| 30/30 [00:00<00:00, 7704.45it/s]"
     ]
    },
    {
     "name": "stdout",
     "output_type": "stream",
     "text": [
      "waymo_08112023-pdf.txt\n",
      "zoox_12082021-pdf.txt\n",
      "cruise_061723-pdf.txt\n",
      "waymo_110621_2-pdf.txt\n",
      "cruise-collision-report-november-29-2019-pdf.txt\n",
      "gm-cruise-collision-report-july-20-2019-pdf.txt\n",
      "gm-cruise-collision-report-january-7-2019-pdf.txt\n",
      "waymo_052722-pdf.txt\n",
      "waymo_060221-1-pdf.txt\n",
      "waymo_121322_2-pdf.txt\n",
      "cruise-collision-report-december-13-2019-pdf.txt\n",
      "waymo_081421-pdf.txt\n",
      "cruise_042123-pdf.txt\n",
      "cruise_05112021-pdf.txt\n",
      "waymo_07212023-pdf.txt\n",
      "waymo_012822_1-pdf.txt\n",
      "waymo-collision-report-march-26-2019-pdf.txt\n",
      "waymo_08232023-pdf.txt\n",
      "waymo-collision-report-july-16-2019-pdf.txt\n",
      "cruise_021122-pdf.txt\n",
      "gm-cruise-collision-report-june-12-2019-pdf.txt\n",
      "zoox_071321-pdf.txt\n",
      "cruise_041622-pdf.txt\n",
      "waymo_032023_2-pdf.txt\n",
      "waymo_022521_2-pdf.txt\n",
      "cruise_032622-pdf.txt\n",
      "apple_120621-pdf.txt\n",
      "collision-report-zoox-january-21-2020-2-pdf.txt\n",
      "cruise_030921-pdf.txt\n",
      "cruise_ol316_042522-pdf.txt\n"
     ]
    },
    {
     "name": "stderr",
     "output_type": "stream",
     "text": [
      "\n"
     ]
    }
   ],
   "source": [
    "for file in tqdm(qualitative_files):\n",
    "    print(file)\n",
    "#     shutil.copyfile(datadir + file, '../eval_txts/qualitative_txts/' + file)"
   ]
  },
  {
   "cell_type": "code",
   "execution_count": null,
   "metadata": {},
   "outputs": [],
   "source": []
  }
 ],
 "metadata": {
  "kernelspec": {
   "display_name": "p37",
   "language": "python",
   "name": "p37"
  },
  "language_info": {
   "codemirror_mode": {
    "name": "ipython",
    "version": 3
   },
   "file_extension": ".py",
   "mimetype": "text/x-python",
   "name": "python",
   "nbconvert_exporter": "python",
   "pygments_lexer": "ipython3",
   "version": "3.7.4"
  }
 },
 "nbformat": 4,
 "nbformat_minor": 2
}
