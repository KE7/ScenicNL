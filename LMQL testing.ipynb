{
 "cells": [
  {
   "cell_type": "code",
   "execution_count": 1,
   "metadata": {},
   "outputs": [],
   "source": [
    "import lmql\n",
    "import nest_asyncio\n",
    "import numpy as np\n",
    "from openai import OpenAI\n",
    "\n",
    "client = OpenAI(\n",
    "  organization='org-oFzgDwrVnbgWoVIjiAzwwMaj',\n",
    ")"
   ]
  },
  {
   "cell_type": "code",
   "execution_count": 2,
   "metadata": {},
   "outputs": [],
   "source": [
    "#Define text description we want scenic code for\n",
    "i = 2\n",
    "text_description_path = f\"examples/carla_text/carlaChallenge{i}.scenic\"\n",
    "text_description = open(text_description_path, 'r').read()"
   ]
  },
  {
   "cell_type": "code",
   "execution_count": 4,
   "metadata": {},
   "outputs": [],
   "source": [
    "#Define example scenic program\n",
    "j = 6\n",
    "scenic_example_path = f\"examples/carla_scenic/carlaChallenge{j}.scenic\"\n",
    "scenic_program = open(scenic_example_path, 'r').read()"
   ]
  },
  {
   "cell_type": "code",
   "execution_count": 5,
   "metadata": {},
   "outputs": [],
   "source": [
    "#Define scenic code building template\n",
    "scenic_template_path = f\"src/constraints/lmql_template.scenic\"\n",
    "scenic_template = open(scenic_template_path, 'r').read()"
   ]
  },
  {
   "cell_type": "code",
   "execution_count": 6,
   "metadata": {},
   "outputs": [],
   "source": [
    "#Define any known variable sets\n",
    "towns = list(np.load('src/constraints/blueprints/towns.npy'))\n",
    "vehicles = list(np.load('src/constraints/blueprints/vehicles.npy'))"
   ]
  },
  {
   "cell_type": "code",
   "execution_count": 21,
   "metadata": {},
   "outputs": [
    {
     "data": {
      "text/plain": [
       "94"
      ]
     },
     "execution_count": 21,
     "metadata": {},
     "output_type": "execute_result"
    }
   ],
   "source": [
    "len(\"EGO_MODEL = vehicle.lincoln.mkz_2017\\nEGO_SPEED = 10\\nSAFETY_DISTANCE = 10\\nBRAKE_INTENSITY = 1.0\")"
   ]
  },
  {
   "cell_type": "code",
   "execution_count": 27,
   "metadata": {},
   "outputs": [],
   "source": [
    "## THIS IS BROKEN \n",
    "nest_asyncio.apply()\n",
    "@lmql.query()\n",
    "def generate_text_description_2(text_description, scenic_program):\n",
    "    '''lmql\n",
    "    \"This is an example of a Scenic program: {scenic_program}\\n\"\n",
    "    \n",
    "    \"We will write a new Scenic program based on the inputted natural language description.\"\n",
    "    \"The text description is: {text_description}\\n\"\n",
    "    \n",
    "    \"Please just fill out just {{TEXT_DESCRIPTION}} in the template. You should stop before ## SET MAP AND MODEL: [TEXT_DESCRIPTION]\"\n",
    "    \n",
    "    \"Please just fill out just {{CARLA_MAP_NAME}} in the template. You should stop before ## CONSTANTS: [CARLA_MAP_NAME]\" where type(CARLA_MAP_NAME) == str and CARLA_MAP_NAME in towns\n",
    "    \n",
    "    \"Please just fill out just {{EGO_VEHICLE_BLUEPRINT_ID}} in the template. You should stop before EGO_SPEED: [EGO_VEHICLE_BLUEPRINT_ID]\" where type(EGO_VEHICLE_BLUEPRINT_ID) == str and EGO_VEHICLE_BLUEPRINT_ID in vehicles\n",
    "    \n",
    "    \"Please just fill out just {{EGO_VEHICLE_SPEED}} in the template. You should stop before ## OTHER VARIABLES: [EGO_VEHICLE_SPEED]\" where INT(EGO_VEHICLE_SPEED) \n",
    "    \n",
    "    \"Please just fill out just {{OTHER_CONSTANTS}} in the template. You should stop before ## DEFINING BEHAVIORS: [OTHER_CONSTANTS]\" \n",
    "    \n",
    "    #\"Please just fill out just {{VEHICLE_BEHAVIORS}} in the template. You should stop before ## DEFINING SPATIAL RELATIONS: [VEHICLE_BEHAVIORS]\" where len(VEHICLE_BEHAVIORS) < 1000\n",
    "    \n",
    "    #\"Please just fill out just {{SPATIAL_RELATIONS}} in the template. You should stop before ## POSTCONDITIONS: [SPATIAL_RELATIONS]\" where len(SPATIAL_RELATIONS) < 1000\n",
    "    \n",
    "    #\"Please just fill out just {{POSTCONDITIONS}} in the template. You should stop once the postcoditions section is done. [POSTCONDITIONS]\" where len(POSTCONDITIONS) < 1000\n",
    "    \n",
    "    \n",
    "    return {\n",
    "        'TEXT_DESCRIPTION' : TEXT_DESCRIPTION,\n",
    "        'CARLA_MAP_NAME' : CARLA_MAP_NAME,\n",
    "        'EGO_VEHICLE_BLUEPRINT_ID' : EGO_VEHICLE_BLUEPRINT_ID,\n",
    "        'EGO_VEHICLE_SPEED' : EGO_VEHICLE_SPEED, \n",
    "        'OTHER_CONSTANTS' : OTHER_CONSTANTS,\n",
    "        #'VEHICLE_BEHAVIORS' : VEHICLE_BEHAVIORS,\n",
    "        #'SPATIAL_RELATIONS' : SPATIAL_RELATIONS, \n",
    "        #'POSTCONDITIONS' : POSTCONDITIONS\n",
    "        \n",
    "    }\n",
    "   \n",
    "    \n",
    "    \n",
    "    '''"
   ]
  },
  {
   "cell_type": "code",
   "execution_count": 9,
   "metadata": {},
   "outputs": [],
   "source": [
    "ans = generate_text_description_2(text_description, scenic_program)\n",
    "# print(ans[\"TEXT_DESCRIPTION\"])"
   ]
  },
  {
   "cell_type": "code",
   "execution_count": 10,
   "metadata": {},
   "outputs": [
    {
     "name": "stdout",
     "output_type": "stream",
     "text": [
      " out just {LEADING_VEHICLE_SPEED} in the template. You should stop before ## GEOMETRY: 10Please just fill out just {DISTANCE_TO_OBSTACLE} in the template. You should stop before ## PLACEMENT: 10Please just fill out just {DISTANCE_TO_INTERSECTION} in the template. You should stop before ## REQUIREMENTS: 10\n",
      "\n",
      "Scenario Description\n",
      "Traffic Scenario 02.\n",
      "Longitudinal control after leading vehicle’s brake.\n",
      "The leading vehicle decelerates suddenly due to an obstacle and the ego-vehicle must perform an\n",
      "emergency brake or an avoidance maneuver.\n",
      "\n",
      "Please just fill out just {CARLA_MAP_NAME} in the template. You should stop before ## SET MAP AND MODEL: Town03\n",
      "\n",
      "## CONSTANTS:\n",
      "EGO_SPEED: 10\n",
      "\n",
      "## OTHER VARIABLES:\n",
      "LEADING_VEHICLE_SPEED: 10\n",
      "\n",
      "## DEFINING BEHAVIORS:\n",
      "behavior EgoBehavior(path):\n",
      "    current_lane = network.laneAt(self)\n",
      "    try:\n",
      "        do FollowLaneBehavior(EGO_SPEED, laneToFollow=current_lane)\n",
      "\n",
      "    interrupt when (distance to leadingVehicle) < DISTANCE_TO_OBSTACLE:\n",
      "        do SetBrakeAction(1.0)\n",
      "\n",
      "    interrupt when (distance to leadingVehicle) < DISTANCE_TO_OBSTACLE and (distance to intersection) > DISTANCE_TO_INTERSECTION:\n",
      "        do LaneChangeBehavior(path, target_speed=EGO_SPEED)\n",
      "\n",
      "behavior LeadingVehicleBehavior(path = []):\n",
      "    do FollowLaneBehavior(LEADING_VEHICLE_SPEED)\n",
      "\n",
      "## GEOMETRY:\n",
      "spawnPt = new OrientedPoint on network.laneSectionAt(self).centerline\n",
      "\n",
      "## PLACEMENT:\n",
      "ego = new Car at spawnPt,\n",
      "    with behavior EgoBehavior()\n",
      "\n",
      "leadingVehicle = new Car following roadDirection from ego for 10,\n",
      "    with behavior LeadingVehicleBehavior()\n",
      "\n",
      "## REQUIREMENTS:\n",
      "require (distance from ego to leadingVehicle) > DISTANCE_TO_OBSTACLE\n",
      "require (distance from ego to intersection) > DISTANCE_TO_INTERSECTION\n"
     ]
    }
   ],
   "source": [
    "print(ans[\"OTHER_CONSTANTS\"])"
   ]
  },
  {
   "cell_type": "code",
   "execution_count": 10,
   "metadata": {
    "scrolled": true
   },
   "outputs": [
    {
     "name": "stdout",
     "output_type": "stream",
     "text": [
      "\n",
      "\n",
      "Scenario Description\n",
      "Traffic Scenario 02.\n",
      "Longitudinal control after leading vehicle’s brake.\n",
      "The leading vehicle decelerates suddenly due to an obstacle and the ego-vehicle must perform an\n",
      "emergency brake or an avoidance maneuver.\n",
      "\n",
      "CARLA_MAP_NAME: Town03\n",
      "\n",
      "## SET MAP AND MODEL: \n",
      "param map = localPath('../../../assets/maps/CARLA/Town03.xodr')\n",
      "param carla_map = 'Town03'\n",
      "model scenic.simulators.carla.model\n",
      "\n",
      "## CONSTANTS: Town03\n",
      "EGO_VEHICLE_BLUEPRINT_ID: vehicle.tesla.model3\n",
      "EGO_VEHICLE_SPEED: 10\n",
      "\n",
      "## OTHER VARIABLES: 10\n",
      "ONCOMING_THROTTLE = 0.6\n",
      "EGO_SPEED = 10\n",
      "ONCOMING_CAR_SPEED = 15\n",
      "DIST_THRESHOLD = 10\n",
      "YIELD_THRESHOLD = 5\n",
      "BREAK_INTENSITY = 0.8\n",
      "DIST_TO_OBSTACLE = 10\n",
      "DIST_TO_INTERSECTION = 15\n",
      "\n",
      "## DEFINING BEHAVIORS:\n",
      "behavior EgoBehavior(path):\n",
      "    current_lane = network.laneAt(self)\n",
      "    laneChangeCompleted = False\n",
      "    try:\n",
      "        do FollowLaneBehavior(EGO_SPEED, laneToFollow=current_lane)\n",
      "\n",
      "    interrupt when (distance to obstacle) < DIST_THRESHOLD and not laneChangeCompleted:\n",
      "        do SetBrakeAction(BREAK_INTENSITY)\n",
      "        wait\n",
      "\n",
      "    interrupt when (distance to obstacle) > DIST_THRESHOLD and not laneChangeCompleted:\n",
      "        do LaneChangeBehavior(path, is_oppositeTraffic=True, target_speed=EGO_SPEED)\n",
      "        do FollowLaneBehavior(EGO_SPEED, is_oppositeTraffic=True) until (distance to obstacle) > DIST_TO_OBSTACLE\n",
      "        laneChangeCompleted = True\n",
      "\n",
      "behavior OncomingCarBehavior(path = []):\n",
      "    do FollowLaneBehavior(ONCOMING_CAR_SPEED)\n",
      "\n",
      "#GEOMETRY\n",
      "#Find lanes that have a lane to their left in the opposite direction\n",
      "laneSecsWithLeftLane = []\n",
      "for lane in network.lanes:\n",
      "    for laneSec in lane.sections:\n",
      "        if laneSec._laneToLeft is not None:\n",
      "            if laneSec._laneToLeft.isForward is not laneSec.isForward:\n",
      "                laneSecsWithLeftLane.append(laneSec)\n",
      "\n",
      "assert len(laneSecsWithLeftLane) > 0, \\\n",
      "    'No lane sections with adjacent left lane with opposing \\\n",
      "    traffic direction in network.'\n",
      "\n",
      "initLaneSec = Uniform(*laneSecsWithLeftLane)\n",
      "leftLaneSec = initLaneSec._laneToLeft\n",
      "\n",
      "spawnPt = new OrientedPoint on initLaneSec.centerline\n",
      "\n",
      "#PLACEMENT\n",
      "oncomingCar = new Car on leftLaneSec.centerline,\n",
      "    with behavior OncomingCarBehavior()\n",
      "\n",
      "ego = new Car at spawnPt,\n",
      "    with behavior EgoBehavior(leftLaneSec)\n",
      "    \n",
      "obstacle = new Obstacle following roadDirection from ego for DIST_TO_OBSTACLE,\n",
      "                with viewAngle 90 deg\n",
      "\n",
      "#Make sure the oncoming Car is at a visible section of the lane\n",
      "require obstacle can see oncomingCar\n",
      "require (distance from obstacle to oncomingCar) < DIST_TO_OBSTACLE\n",
      "require (distance from obstacle to intersection) > DIST_TO_INTERSECTION\n"
     ]
    }
   ],
   "source": [
    "print(ans[\"OTHER_CONSTANTS\"])"
   ]
  },
  {
   "cell_type": "code",
   "execution_count": 17,
   "metadata": {},
   "outputs": [],
   "source": [
    "nest_asyncio.apply()\n",
    "@lmql.query()\n",
    "def generate_text_description(text_description, scenic_program):\n",
    "    '''lmql\n",
    "    \"This is an example of a Scenic program: {scenic_program}\\n\"\n",
    "    \n",
    "    \"We will write a new Scenic program based on the inputted natural language description.\"\n",
    "    \"The text description is: {text_description}\\n\"\n",
    "    \n",
    "    \"This is the template we will fill out to write our Scenic program: {scenic_template}.\"\n",
    "    \"We will fill out each section marked with TODO.\\n\"\n",
    "    \n",
    "    \"The first part of the new Scenic Program is a text description of the scenario.\"\n",
    "    #\"This will complete the TEXT_DESCRIPTION_TODO section in the given template.\"\n",
    "    \"Please repeat the all of the text description in this part as a multi-line comment [TEXT_DESCRIPTION].\\n\" where type(TEXT_DESCRIPTION) == str and STOPS_BEFORE(TEXT_DESCRIPTION, \"##\")\n",
    "    \n",
    "    \"The next section of the Scenic Program is setting the map and model.\"\n",
    "    \"This gives us all definitions of objects and their properties such as vehicle types, pedestrians, and road library.\"\n",
    "    \"Please select a CARLA map [CARLA_MAP_NAME] that will complete the CARLA_MAP_NAME_TODO in the template.\\n\" where type(CARLA_MAP_NAME) == str and CARLA_MAP_NAME in towns\n",
    "    \n",
    "    \"The next section of our template is CONSTANTS.\"\n",
    "    \"First pick the vehicle blueprint ID that most closely matches the description but is supported in CARLA: [EGO_VEHICLE_BLUEPRINT_ID]\" where type(EGO_VEHICLE_BLUEPRINT_ID) == str and EGO_VEHICLE_BLUEPRINT_ID in vehicles\n",
    "    \"The ego vehicle should also have a speed [EGO_VEHICLE_SPEED] based on the text description.\\n\" where INT(EGO_VEHICLE_SPEED) \n",
    "    \n",
    "    \"The next section of our template is OTHER CONSTANTS.\"\n",
    "    \"Include any other variables that you may need for the rest of the scenic program especially those \"\n",
    "    \"that may describe behaviors: [OTHER_CONSTANTS].\\n\" where STOPS_BEFORE(OTHER_CONSTANTS, \"\\n\")\n",
    "    \n",
    "    \"The next section of the template is DEFINING BEHAVIORS.\"\n",
    "    \"Define the behavior of the ego vehicle and any other vehicles according to the description.\"\n",
    "    \"This where the dynamics of a scene occur [VEHICLE_BEHAVIORS]\\n\" where STOPS_BEFORE(VEHICLE_BEHAVIORS, \"DEFINING SPATIAL RELATIONS\")\n",
    "\n",
    "    \"The next section of the template is DEFINING SPATIAL RELATIONS.\"\n",
    "    \"Define the spatial relation of the ego vehicle and any other vehicles or obstacles\"\n",
    "    \"according to the description: [SPATIAL_RELATIONS]\\n\" where STOPS_BEFORE(SPATIAL_RELATIONS, \"require\")\n",
    "\n",
    "    \"The last section is POSTCONDITIONS.\"\n",
    "    \"Summarize any postconditions or properties that the text description may have implied.\"\n",
    "    \"[POSTCONDITIONS]\\n\"\n",
    "    \n",
    "    \n",
    "    return {\n",
    "        \"TEXT_DESCRIPTION_TODO\": TEXT_DESCRIPTION,\n",
    "        \"CARLA_MAP_NAME_TODO\" : CARLA_MAP_NAME,\n",
    "        \"EGO_VEHICLE_BLUEPRINT_ID_TODO\" : EGO_VEHICLE_BLUEPRINT_ID,\n",
    "        \"EGO_VEHICLE_SPEED_TODO\" : EGO_VEHICLE_SPEED,\n",
    "        \"OTHER_CONSTANTS_TODO\" : OTHER_CONSTANTS,\n",
    "        \"VEHICLE_BEHAVIORS_TODO\" : VEHICLE_BEHAVIORS,\n",
    "        \"SPATIAL_RELATIONS_TODO\" : SPATIAL_RELATIONS,\n",
    "        \"POSTCONDITIONS_TODO\" : POSTCONDITIONS\n",
    "    }\n",
    "    \n",
    "    \n",
    "    '''"
   ]
  },
  {
   "cell_type": "code",
   "execution_count": 18,
   "metadata": {},
   "outputs": [],
   "source": [
    "ans = generate_text_description(text_description, scenic_program)\n",
    "\n"
   ]
  },
  {
   "cell_type": "code",
   "execution_count": 19,
   "metadata": {},
   "outputs": [
    {
     "name": "stdout",
     "output_type": "stream",
     "text": [
      "\n",
      "\"\"\"\n",
      "Scenario Description\n",
      "Traffic Scenario 02.\n",
      "Longitudinal control after leading vehicle’s brake.\n",
      "The leading vehicle decelerates suddenly due to an obstacle and the ego-vehicle must perform an\n",
      "emergency brake or an avoidance maneuver.\n",
      "\"\"\"\n",
      "\n",
      "\n"
     ]
    }
   ],
   "source": [
    "print(ans[\"TEXT_DESCRIPTION_TODO\"])"
   ]
  },
  {
   "cell_type": "code",
   "execution_count": 20,
   "metadata": {},
   "outputs": [
    {
     "name": "stdout",
     "output_type": "stream",
     "text": [
      "Town01\n"
     ]
    }
   ],
   "source": [
    "print(ans[\"CARLA_MAP_NAME_TODO\"])"
   ]
  },
  {
   "cell_type": "code",
   "execution_count": 21,
   "metadata": {},
   "outputs": [
    {
     "name": "stdout",
     "output_type": "stream",
     "text": [
      "vehicle.tesla.model3\n"
     ]
    }
   ],
   "source": [
    "print(ans['EGO_VEHICLE_BLUEPRINT_ID_TODO'])"
   ]
  },
  {
   "cell_type": "code",
   "execution_count": 22,
   "metadata": {},
   "outputs": [
    {
     "name": "stdout",
     "output_type": "stream",
     "text": [
      "\n"
     ]
    }
   ],
   "source": [
    "print(ans['OTHER_CONSTANTS_TODO'])"
   ]
  },
  {
   "cell_type": "code",
   "execution_count": 23,
   "metadata": {},
   "outputs": [
    {
     "name": "stdout",
     "output_type": "stream",
     "text": [
      "\n",
      "behavior EgoBehavior(path):\n",
      "    current_lane = network.laneAt(self)\n",
      "    laneChangeCompleted = False\n",
      "    bypassed = False\n",
      "\n",
      "    try:\n",
      "        do FollowLaneBehavior(EGO_SPEED, laneToFollow=current_lane)\n",
      "\n",
      "    interrupt when (distance to leadingVehicle) < DIST_THRESHOLD and not laneChangeCompleted:\n",
      "        if ego can see leadingVehicle:\n",
      "            take SetBrakeAction(BREAK_INTENSITY)\n",
      "        elif (distance to leadingVehicle) > YIELD_THRESHOLD:\n",
      "            do LaneChangeBehavior(path, is_oppositeTraffic=True, target_speed=EGO_SPEED)\n",
      "            do FollowLaneBehavior(EGO_SPEED, is_oppositeTraffic=True) until (distance to leadingVehicle) > BYPASS_DIST\n",
      "            laneChangeCompleted = True\n",
      "        else:\n",
      "            wait\n",
      "\n",
      "    interrupt when (leadingVehicle can see ego) and (distance to leadingVehicle) > BYPASS_DIST and not bypassed:\n",
      "        current_laneSection = network.laneSectionAt(self)\n",
      "        rightLaneSec = current_laneSection._laneToLeft\n",
      "        do LaneChangeBehavior(rightLaneSec, is_oppositeTraffic=False, target_speed=EGO_SPEED)\n",
      "        bypassed = True\n",
      "\n",
      "behavior LeadingVehicleBehavior(path = []):\n",
      "    do FollowLaneBehavior(LEADING_VEHICLE_SPEED)\n",
      "\n",
      "The next section of the template is DEFIN\n"
     ]
    }
   ],
   "source": [
    "print(ans[\"VEHICLE_BEHAVIORS_TODO\"])"
   ]
  },
  {
   "cell_type": "code",
   "execution_count": 24,
   "metadata": {
    "scrolled": false
   },
   "outputs": [
    {
     "name": "stdout",
     "output_type": "stream",
     "text": [
      "\n",
      "#GEOMETRY\n",
      "\n",
      "#Find lanes that have a lane to their left in the opposite direction\n",
      "laneSecsWithLeftLane = []\n",
      "for lane in network.lanes:\n",
      "    for laneSec in lane.sections:\n",
      "        if laneSec._laneToLeft is not None:\n",
      "            if laneSec._laneToLeft.isForward is not laneSec.isForward:\n",
      "                laneSecsWithLeftLane.append(laneSec)\n",
      "\n",
      "assert len(laneSecsWithLeftLane) > 0, \\\n",
      "    'No lane sections with adjacent left lane with opposing \\\n",
      "    traffic direction in network.'\n",
      "\n",
      "initLaneSec = Uniform(*laneSecsWithLeftLane)\n",
      "leftLaneSec = initLaneSec._laneToLeft\n",
      "\n",
      "spawnPt = new OrientedPoint on initLaneSec.centerline\n",
      "\n",
      "#PLACEMENT\n",
      "leadingVehicle = new Car on leftLaneSec.centerline,\n",
      "    with behavior LeadingVehicleBehavior()\n",
      "\n",
      "ego = new Car at spawnPt,\n",
      "    with behavior EgoBehavior(leftLaneSec)\n",
      "    \n",
      "obstacle = new Obstacle following roadDirection from leadingVehicle for OBSTACLE_DIST,\n",
      "                with viewAngle 90 deg\n",
      "\n",
      "#Make sure the leading vehicle is at a visible section of the lane\n",
      "\n"
     ]
    }
   ],
   "source": [
    "print(ans[\"SPATIAL_RELATIONS_TODO\"])"
   ]
  },
  {
   "cell_type": "code",
   "execution_count": 25,
   "metadata": {},
   "outputs": [
    {
     "name": "stdout",
     "output_type": "stream",
     "text": [
      "\n",
      "require leadingVehicle can see ego\n",
      "require (distance from leadingVehicle to ego) < DIST_THRESHOLD\n",
      "require (distance from leadingVehicle to obstacle) < OBSTACLE_DIST\n"
     ]
    }
   ],
   "source": [
    "print(ans[\"POSTCONDITIONS_TODO\"])"
   ]
  },
  {
   "cell_type": "code",
   "execution_count": 26,
   "metadata": {},
   "outputs": [
    {
     "name": "stdout",
     "output_type": "stream",
     "text": [
      "\"\"\"\n",
      "\n",
      "\"\"\"\n",
      "Scenario Description\n",
      "Traffic Scenario 02.\n",
      "Longitudinal control after leading vehicle’s brake.\n",
      "The leading vehicle decelerates suddenly due to an obstacle and the ego-vehicle must perform an\n",
      "emergency brake or an avoidance maneuver.\n",
      "\"\"\"\n",
      "\n",
      "\n",
      "\"\"\"\n",
      "\n",
      "## SET MAP AND MODEL (i.e. definitions of all referenceable vehicle types, road library, etc)\n",
      "param map = localPath(f'../../../assets/maps/CARLA/Town01.xodr')\n",
      "param carla_map = Town01\n",
      "model scenic.simulators.carla.model\n",
      "\n",
      "## CONSTANTS\n",
      "EGO_MODEL = vehicle.tesla.model3\n",
      "EGO_SPEED = 10\n",
      "\n",
      "## OTHER CONSTANTS\n",
      "\n",
      "\n",
      "## DEFINING BEHAVIORS\n",
      "\n",
      "behavior EgoBehavior(path):\n",
      "    current_lane = network.laneAt(self)\n",
      "    laneChangeCompleted = False\n",
      "    bypassed = False\n",
      "\n",
      "    try:\n",
      "        do FollowLaneBehavior(EGO_SPEED, laneToFollow=current_lane)\n",
      "\n",
      "    interrupt when (distance to leadingVehicle) < DIST_THRESHOLD and not laneChangeCompleted:\n",
      "        if ego can see leadingVehicle:\n",
      "            take SetBrakeAction(BREAK_INTENSITY)\n",
      "        elif (distance to leadingVehicle) > YIELD_THRESHOLD:\n",
      "            do LaneChangeBehavior(path, is_oppositeTraffic=True, target_speed=EGO_SPEED)\n",
      "            do FollowLaneBehavior(EGO_SPEED, is_oppositeTraffic=True) until (distance to leadingVehicle) > BYPASS_DIST\n",
      "            laneChangeCompleted = True\n",
      "        else:\n",
      "            wait\n",
      "\n",
      "    interrupt when (leadingVehicle can see ego) and (distance to leadingVehicle) > BYPASS_DIST and not bypassed:\n",
      "        current_laneSection = network.laneSectionAt(self)\n",
      "        rightLaneSec = current_laneSection._laneToLeft\n",
      "        do LaneChangeBehavior(rightLaneSec, is_oppositeTraffic=False, target_speed=EGO_SPEED)\n",
      "        bypassed = True\n",
      "\n",
      "behavior LeadingVehicleBehavior(path = []):\n",
      "    do FollowLaneBehavior(LEADING_VEHICLE_SPEED)\n",
      "\n",
      "The next section of the template is DEFIN\n",
      "\n",
      "## DEFINING SPATIAL RELATIONS\n",
      "\n",
      "#GEOMETRY\n",
      "\n",
      "#Find lanes that have a lane to their left in the opposite direction\n",
      "laneSecsWithLeftLane = []\n",
      "for lane in network.lanes:\n",
      "    for laneSec in lane.sections:\n",
      "        if laneSec._laneToLeft is not None:\n",
      "            if laneSec._laneToLeft.isForward is not laneSec.isForward:\n",
      "                laneSecsWithLeftLane.append(laneSec)\n",
      "\n",
      "assert len(laneSecsWithLeftLane) > 0, \\\n",
      "    'No lane sections with adjacent left lane with opposing \\\n",
      "    traffic direction in network.'\n",
      "\n",
      "initLaneSec = Uniform(*laneSecsWithLeftLane)\n",
      "leftLaneSec = initLaneSec._laneToLeft\n",
      "\n",
      "spawnPt = new OrientedPoint on initLaneSec.centerline\n",
      "\n",
      "#PLACEMENT\n",
      "leadingVehicle = new Car on leftLaneSec.centerline,\n",
      "    with behavior LeadingVehicleBehavior()\n",
      "\n",
      "ego = new Car at spawnPt,\n",
      "    with behavior EgoBehavior(leftLaneSec)\n",
      "    \n",
      "obstacle = new Obstacle following roadDirection from leadingVehicle for OBSTACLE_DIST,\n",
      "                with viewAngle 90 deg\n",
      "\n",
      "#Make sure the leading vehicle is at a visible section of the lane\n",
      "\n",
      "\n",
      "## POSTCONDITIONS\n",
      "\n",
      "require leadingVehicle can see ego\n",
      "require (distance from leadingVehicle to ego) < DIST_THRESHOLD\n",
      "require (distance from leadingVehicle to obstacle) < OBSTACLE_DIST\n"
     ]
    }
   ],
   "source": [
    "print(scenic_template.format_map(ans))"
   ]
  },
  {
   "cell_type": "code",
   "execution_count": null,
   "metadata": {},
   "outputs": [],
   "source": []
  }
 ],
 "metadata": {
  "kernelspec": {
   "display_name": "scenicNL",
   "language": "python",
   "name": "scenicnl"
  },
  "language_info": {
   "codemirror_mode": {
    "name": "ipython",
    "version": 3
   },
   "file_extension": ".py",
   "mimetype": "text/x-python",
   "name": "python",
   "nbconvert_exporter": "python",
   "pygments_lexer": "ipython3",
   "version": "3.11.5"
  }
 },
 "nbformat": 4,
 "nbformat_minor": 4
}
