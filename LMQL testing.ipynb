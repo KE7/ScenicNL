{
 "cells": [
  {
   "cell_type": "code",
   "execution_count": 8,
   "metadata": {},
   "outputs": [],
   "source": [
    "import lmql\n",
    "import nest_asyncio\n",
    "import numpy as np\n",
    "from openai import OpenAI\n",
    "\n",
    "client = OpenAI(\n",
    "  organization='org-oFzgDwrVnbgWoVIjiAzwwMaj',\n",
    ")"
   ]
  },
  {
   "cell_type": "code",
   "execution_count": 77,
   "metadata": {},
   "outputs": [],
   "source": [
    "#Define text description we want scenic code for\n",
    "i = 7\n",
    "text_description_path = f\"examples/carla_text/carlaChallenge{i}.scenic\"\n",
    "text_description = open(text_description_path, 'r').read()"
   ]
  },
  {
   "cell_type": "code",
   "execution_count": 3,
   "metadata": {},
   "outputs": [],
   "source": [
    "#Define example scenic program\n",
    "j = 6\n",
    "scenic_example_path = f\"examples/carla_scenic/carlaChallenge{j}.scenic\"\n",
    "scenic_program = open(scenic_example_path, 'r').read()"
   ]
  },
  {
   "cell_type": "code",
   "execution_count": 4,
   "metadata": {},
   "outputs": [],
   "source": [
    "#Define scenic code building template\n",
    "scenic_template_path = f\"src/constraints/lmql_template.scenic\"\n",
    "scenic_template = open(scenic_template_path, 'r').read()"
   ]
  },
  {
   "cell_type": "code",
   "execution_count": 9,
   "metadata": {},
   "outputs": [],
   "source": [
    "#Define any known variable sets\n",
    "towns = list(np.load('src/constraints/blueprints/towns.npy'))\n",
    "vehicles = list(np.load('src/constraints/blueprints/vehicles.npy'))"
   ]
  },
  {
   "cell_type": "code",
   "execution_count": 67,
   "metadata": {},
   "outputs": [],
   "source": [
    "nest_asyncio.apply()\n",
    "@lmql.query()\n",
    "def generate_text_description(text_description, scenic_program):\n",
    "    '''lmql\n",
    "    \"This is an example of a Scenic program: {scenic_program}\\n\"\n",
    "    \n",
    "    \"We will write a new Scenic program based on the inputted natural language description.\"\n",
    "    \"The text description is: {text_description}\\n\"\n",
    "    \n",
    "    \"This is the template we will fill out to write our Scenic program: {scenic_template}.\"\n",
    "    \"We will fill out each section marked with TODO.\\n\"\n",
    "    \n",
    "    \"The first part of the new Scenic Program is a text description of the scenario.\"\n",
    "    \"This will complete the TEXT_DESCRIPTION_TODO section in the given template.\"\n",
    "    \"Please repeat the all of the text description in this part as a multi-line comment [TEXT_DESCRIPTION].\\n\" where type(TEXT_DESCRIPTION) == str and STOPS_BEFORE(TEXT_DESCRIPTION, \"##\")\n",
    "    \n",
    "    \"The next section of the Scenic Program is setting the map and model.\"\n",
    "    \"This gives us all definitions of objects and their properties such as vehicle types, pedestrians, and road library.\"\n",
    "    \"Please select a CARLA map [CARLA_MAP_NAME] that will complete the CARLA_MAP_NAME_TODO in the template.\\n\" where type(CARLA_MAP_NAME) == str and CARLA_MAP_NAME in towns\n",
    "    \n",
    "    \"The next section of our template is CONSTANTS.\"\n",
    "    \"First pick the vehicle blueprint ID that most closely matches the description but is supported in CARLA: [EGO_VEHICLE_BLUEPRINT_ID]\" where type(EGO_VEHICLE_BLUEPRINT_ID) == str and EGO_VEHICLE_BLUEPRINT_ID in vehicles\n",
    "    \"The ego vehicle should also have a speed [EGO_VEHICLE_SPEED] based on the text description.\\n\" where INT(EGO_VEHICLE_SPEED) \n",
    "    \n",
    "    \"The next section of our template is OTHER CONSTANTS.\"\n",
    "    \"Include any other variables that you may need for the rest of the scenic program especially those \"\n",
    "    \"that may describe behaviors: [OTHER_VARIABLES].\\n\" where STOPS_BEFORE(OTHER_VARIABLES, \"\\n\\n\")\n",
    "    \n",
    "    \"The next section of the template is DEFINING BEHAVIORS.\"\n",
    "    \"Define the behavior of the ego vehicle and any other vehicles according to the description.\"\n",
    "    \"This where the dynamics of a scene occur [VEHICLE_BEHAVIORS]\\n\" where STOPS_BEFORE(VEHICLE_BEHAVIORS, \"DEFINING SPATIAL RELATIONS\")\n",
    "\n",
    "    \"The next section of the template is DEFINING SPATIAL RELATIONS.\"\n",
    "    \"Define the spatial relation of the ego vehicle and any other vehicles or obstacles\"\n",
    "    \"according to the description: [SPATIAL_RELATIONS]\\n\" where STOPS_BEFORE(SPATIAL_RELATIONS, \"require\")\n",
    "\n",
    "    \"The last section is POSTCONDITIONS.\"\n",
    "    \"Summarize any postconditions or properties that the text description may have implied.\"\n",
    "    \"[POSTCONDITIONS]\\n\"\n",
    "    \n",
    "    \n",
    "    return {\n",
    "        \"TEXT_DESCRIPTION\": TEXT_DESCRIPTION,\n",
    "        \"CARLA_MAP_NAME\" : CARLA_MAP_NAME,\n",
    "        \"EGO_VEHICLE_BLUEPRINT_ID\" : EGO_VEHICLE_BLUEPRINT_ID,\n",
    "        \"EGO_VEHICLE_SPEED\" : EGO_VEHICLE_SPEED,\n",
    "        \"OTHER_VARIABLES\" : OTHER_VARIABLES,\n",
    "        \"VEHICLE_BEHAVIORS\" : VEHICLE_BEHAVIORS,\n",
    "        \"SPATIAL_RELATIONS\" : SPATIAL_RELATIONS,\n",
    "        \"POSTCONDITIONS\" : POSTCONDITIONS\n",
    "    }\n",
    "    \n",
    "    \n",
    "    '''"
   ]
  },
  {
   "cell_type": "code",
   "execution_count": 78,
   "metadata": {},
   "outputs": [
    {
     "name": "stdout",
     "output_type": "stream",
     "text": [
      "\n",
      "\n",
      "\"\"\"\n",
      "Scenario Description\n",
      "Based on 2019 Carla Challenge Traffic Scenario 07.\n",
      "Ego-vehicle is going straight at an intersection but a crossing vehicle \n",
      "runs a red light, forcing the ego-vehicle to perform a collision avoidance maneuver.\n",
      "Note: The traffic light control is not implemented yet, but it will soon be. \n",
      "\"\"\"\n",
      "\n",
      "\n"
     ]
    }
   ],
   "source": [
    "ans = generate_text_description(text_description, scenic_program)\n",
    "\n",
    "print(ans[\"TEXT_DESCRIPTION\"])"
   ]
  },
  {
   "cell_type": "code",
   "execution_count": 79,
   "metadata": {},
   "outputs": [
    {
     "name": "stdout",
     "output_type": "stream",
     "text": [
      "Town01\n"
     ]
    }
   ],
   "source": [
    "print(ans[\"CARLA_MAP_NAME\"])"
   ]
  },
  {
   "cell_type": "code",
   "execution_count": 80,
   "metadata": {},
   "outputs": [
    {
     "name": "stdout",
     "output_type": "stream",
     "text": [
      "vehicle.tesla.model3\n"
     ]
    }
   ],
   "source": [
    "print(ans['EGO_VEHICLE_BLUEPRINT_ID'])"
   ]
  },
  {
   "cell_type": "code",
   "execution_count": 81,
   "metadata": {},
   "outputs": [
    {
     "name": "stdout",
     "output_type": "stream",
     "text": [
      "\n",
      "CROSSING_VEHICLE_SPEED = 15\n",
      "DIST_THRESHOLD = 10\n",
      "BREAK_INTENSITY = 0.8\n",
      "DIST_TO_INTERSECTION = 20\n",
      "DIST_TO_CROSSING_VEHICLE = 15\n",
      "YIELD_THRESHOLD = 5\n",
      "TURNING_ANGLE = 45 deg\n",
      "TURNING_SPEED = 5\n"
     ]
    }
   ],
   "source": [
    "print(ans['OTHER_VARIABLES'])"
   ]
  },
  {
   "cell_type": "code",
   "execution_count": 82,
   "metadata": {
    "scrolled": false
   },
   "outputs": [
    {
     "name": "stdout",
     "output_type": "stream",
     "text": [
      "\n",
      "#GEOMETRY\n",
      "#Find lanes that have a lane to their left in the opposite direction\n",
      "laneSecsWithLeftLane = []\n",
      "for lane in network.lanes:\n",
      "    for laneSec in lane.sections:\n",
      "        if laneSec._laneToLeft is not None:\n",
      "            if laneSec._laneToLeft.isForward is not laneSec.isForward:\n",
      "                laneSecsWithLeftLane.append(laneSec)\n",
      "\n",
      "assert len(laneSecsWithLeftLane) > 0, \\\n",
      "    'No lane sections with adjacent left lane with opposing \\\n",
      "    traffic direction in network.'\n",
      "\n",
      "initLaneSec = Uniform(*laneSecsWithLeftLane)\n",
      "leftLaneSec = initLaneSec._laneToLeft\n",
      "\n",
      "spawnPt = new OrientedPoint on initLaneSec.centerline\n",
      "\n",
      "#PLACEMENT\n",
      "crossingVehicle = new Car on leftLaneSec.centerline,\n",
      "    with behavior CrossingVehicleBehavior()\n",
      "\n",
      "ego = new Car at spawnPt,\n",
      "    with behavior EgoBehavior(leftLaneSec)\n",
      "    \n",
      "#Make sure the crossing vehicle is at a visible section of the lane\n",
      "\n"
     ]
    }
   ],
   "source": [
    "print(ans[\"SPATIAL_RELATIONS\"])"
   ]
  },
  {
   "cell_type": "code",
   "execution_count": 83,
   "metadata": {},
   "outputs": [
    {
     "name": "stdout",
     "output_type": "stream",
     "text": [
      " \n",
      "require crossingVehicle can see ego\n",
      "require (distance from crossingVehicle to ego) < DIST_TO_CROSSING_VEHICLE\n",
      "require (distance from crossingVehicle to intersection) > DIST_TO_INTERSECTION\n"
     ]
    }
   ],
   "source": [
    "print(ans[\"POSTCONDITIONS\"])"
   ]
  },
  {
   "cell_type": "code",
   "execution_count": null,
   "metadata": {},
   "outputs": [],
   "source": []
  }
 ],
 "metadata": {
  "kernelspec": {
   "display_name": "scenicNL",
   "language": "python",
   "name": "scenicnl"
  },
  "language_info": {
   "codemirror_mode": {
    "name": "ipython",
    "version": 3
   },
   "file_extension": ".py",
   "mimetype": "text/x-python",
   "name": "python",
   "nbconvert_exporter": "python",
   "pygments_lexer": "ipython3",
   "version": "3.11.5"
  }
 },
 "nbformat": 4,
 "nbformat_minor": 4
}
