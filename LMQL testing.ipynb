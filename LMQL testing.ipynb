{
 "cells": [
  {
   "cell_type": "code",
   "execution_count": 9,
   "metadata": {},
   "outputs": [],
   "source": [
    "import lmql\n",
    "import nest_asyncio\n",
    "\n",
    "from openai import OpenAI\n",
    "\n",
    "client = OpenAI(\n",
    "  organization='org-oFzgDwrVnbgWoVIjiAzwwMaj',\n",
    ")"
   ]
  },
  {
   "cell_type": "code",
   "execution_count": 10,
   "metadata": {},
   "outputs": [
    {
     "name": "stdout",
     "output_type": "stream",
     "text": [
      "\"\"\" Scenario Description\n",
      "Traffic Scenario 01.\n",
      "Control loss without previous action.\n",
      "The ego-vehicle loses control due to bad conditions on the road and it must recover, coming back to\n",
      "its original lane.\n",
      "\"\"\"\n"
     ]
    }
   ],
   "source": [
    "i = 1\n",
    "text_description_path = f\"examples/carla_text/carlaChallenge{i}.scenic\"\n",
    "text_description = open(text_description_path, 'r').read()\n",
    "print(text_description)"
   ]
  },
  {
   "cell_type": "code",
   "execution_count": 11,
   "metadata": {},
   "outputs": [
    {
     "name": "stdout",
     "output_type": "stream",
     "text": [
      "\"\"\" Scenario Description\n",
      "Based on CARLA Challenge Scenario 6: https://carlachallenge.org/challenge/nhtsa/\n",
      "Ego-vehicle must go around a blocking object\n",
      "using the opposite lane, yielding to oncoming traffic.\n",
      "\"\"\"\n",
      "\n",
      "# N.B. Town07 is not included with CARLA by default; see installation instructions at\n",
      "# https://carla.readthedocs.io/en/latest/start_quickstart/#import-additional-assets\n",
      "param map = localPath('../../../assets/maps/CARLA/Town07.xodr')\n",
      "param carla_map = 'Town07'\n",
      "model scenic.simulators.carla.model\n",
      "\n",
      "\n",
      "#CONSTANTS\n",
      "ONCOMING_THROTTLE = 0.6\n",
      "EGO_SPEED = 7\n",
      "ONCOMING_CAR_SPEED = 10\n",
      "DIST_THRESHOLD = 13\n",
      "YIELD_THRESHOLD = 5\n",
      "BLOCKING_CAR_DIST = Range(15, 20)\n",
      "BREAK_INTENSITY = 0.8\n",
      "BYPASS_DIST = 5\n",
      "DIST_BTW_BLOCKING_ONCOMING_CARS = 10\n",
      "DIST_TO_INTERSECTION = 15\n",
      "\n",
      "#EGO BEHAVIOR\n",
      "behavior EgoBehavior(path):\n",
      "    current_lane = network.laneAt(self)\n",
      "    laneChangeCompleted = False\n",
      "    bypassed = False\n",
      "\n",
      "    try:\n",
      "        do FollowLaneBehavior(EGO_SPEED, laneToFollow=current_lane)\n",
      "\n",
      "    interrupt when (distance to blockingCar) < DIST_THRESHOLD and not laneChangeCompleted:\n",
      "        if ego can see oncomingCar:\n",
      "            take SetBrakeAction(BREAK_INTENSITY)\n",
      "        elif (distance to oncomingCar) > YIELD_THRESHOLD:\n",
      "            do LaneChangeBehavior(path, is_oppositeTraffic=True, target_speed=EGO_SPEED)\n",
      "            do FollowLaneBehavior(EGO_SPEED, is_oppositeTraffic=True) until (distance to blockingCar) > BYPASS_DIST\n",
      "            laneChangeCompleted = True\n",
      "        else:\n",
      "            wait\n",
      "\n",
      "    interrupt when (blockingCar can see ego) and (distance to blockingCar) > BYPASS_DIST and not bypassed:\n",
      "        current_laneSection = network.laneSectionAt(self)\n",
      "        rightLaneSec = current_laneSection._laneToLeft\n",
      "        do LaneChangeBehavior(rightLaneSec, is_oppositeTraffic=False, target_speed=EGO_SPEED)\n",
      "        bypassed = True\n",
      "\n",
      "\n",
      "#OTHER BEHAVIORS\n",
      "behavior OncomingCarBehavior(path = []):\n",
      "    do FollowLaneBehavior(ONCOMING_CAR_SPEED)\n",
      "\n",
      "#GEOMETRY\n",
      "\n",
      "#Find lanes that have a lane to their left in the opposite direction\n",
      "laneSecsWithLeftLane = []\n",
      "for lane in network.lanes:\n",
      "    for laneSec in lane.sections:\n",
      "        if laneSec._laneToLeft is not None:\n",
      "            if laneSec._laneToLeft.isForward is not laneSec.isForward:\n",
      "                laneSecsWithLeftLane.append(laneSec)\n",
      "\n",
      "assert len(laneSecsWithLeftLane) > 0, \\\n",
      "    'No lane sections with adjacent left lane with opposing \\\n",
      "    traffic direction in network.'\n",
      "\n",
      "initLaneSec = Uniform(*laneSecsWithLeftLane)\n",
      "leftLaneSec = initLaneSec._laneToLeft\n",
      "\n",
      "spawnPt = new OrientedPoint on initLaneSec.centerline\n",
      "\n",
      "#PLACEMENT\n",
      "oncomingCar = new Car on leftLaneSec.centerline,\n",
      "    with behavior OncomingCarBehavior()\n",
      "\n",
      "ego = new Car at spawnPt,\n",
      "    with behavior EgoBehavior(leftLaneSec)\n",
      "    \n",
      "blockingCar = new Car following roadDirection from ego for BLOCKING_CAR_DIST,\n",
      "                with viewAngle 90 deg\n",
      "\n",
      "#Make sure the oncoming Car is at a visible section of the lane\n",
      "require blockingCar can see oncomingCar\n",
      "require (distance from blockingCar to oncomingCar) < DIST_BTW_BLOCKING_ONCOMING_CARS\n",
      "require (distance from blockingCar to intersection) > DIST_TO_INTERSECTION\n"
     ]
    }
   ],
   "source": [
    "j = 6\n",
    "scenic_example_path = f\"examples/carla_scenic/carlaChallenge{j}.scenic\"\n",
    "scenic_program = open(scenic_example_path, 'r').read()\n",
    "print(scenic_program)"
   ]
  },
  {
   "cell_type": "code",
   "execution_count": 18,
   "metadata": {},
   "outputs": [],
   "source": [
    "nest_asyncio.apply()\n",
    "@lmql.query()\n",
    "def generate_text_description(text_description, scenic_program):\n",
    "    '''lmql\n",
    "    \"This is an example of a Scenic program: {scenic_program}\\n\"\n",
    "    \n",
    "    \"We will write a new Scenic program based on the inputted natural language description.\"\n",
    "    \"The natural language description is: {text_description}\\n\"\n",
    "    \n",
    "    \"The first part of the new Scenic Program is a text description of the scenario. \"    \n",
    "    \"Please repeat the all of the text description {text_description} in this part as a multi-line comment [TEXT_DESCRIPTION]\\n\" where type(TEXT_DESCRIPTION) == str\n",
    "    \n",
    "    \"The next part of the Scenic Program is setting the map and model.\"\n",
    "    \"This gives us all definitions of objects and their properties such as vehicle types, pedestrians, and road library.\"\n",
    "    \n",
    "    \"Please set the param carla_map = [CARLA_MAP_NAME]\" where type(CARLA_MAP_NAME) == str and CARLA_MAP_NAME in ['Town01', 'Town02', 'Town03', 'Town04', 'Town05', 'Town06', 'Town07', 'Town10']\n",
    "    \n",
    "    \"Now we must pick a vehicle blueprint ID from the CARLA map for our EGO vehicle. \"\n",
    "    \"Pick the one that most closely matches the description but is supported in CARLA: [EGO_VEHICLE_BLUEPRINT_ID]\\n\" where [EGO_VEHICLE_BLUEPRINT_ID] in all_vehicles\n",
    "    \"The ego vehicle should also have a speed [EGO_VEHICLE_SPEED] based on the description\" where INT(EGO_VEHICLE_SPEED) \n",
    "    \n",
    "    \n",
    "    return {\n",
    "        \"TEXT_DESCRIPTION\": TEXT_DESCRIPTION,\n",
    "        \"CARLA_MAP_NAME\" : CARLA_MAP_NAME,\n",
    "        \"EGO_VEHICLE_BLUEPRINT_ID\" : EGO_VEHICLE_BLUEPRINT_ID,\n",
    "        \"EGO_VEHICLE_SPEED\" : EGO_VEHICLE_SPEED,\n",
    "        #\"OTHER_VARIABLES\" : OTHER_VARIABLES\n",
    "    }\n",
    "    \n",
    "    \n",
    "    '''"
   ]
  },
  {
   "cell_type": "code",
   "execution_count": 19,
   "metadata": {},
   "outputs": [
    {
     "ename": "TypeError",
     "evalue": "Failed to resolve variable 'all_vehicles' in LMQL query.",
     "output_type": "error",
     "traceback": [
      "\u001b[0;31m---------------------------------------------------------------------------\u001b[0m",
      "\u001b[0;31mTypeError\u001b[0m                                 Traceback (most recent call last)",
      "Cell \u001b[0;32mIn[19], line 1\u001b[0m\n\u001b[0;32m----> 1\u001b[0m ans \u001b[38;5;241m=\u001b[39m generate_text_description(text_description, scenic_program)\n",
      "File \u001b[0;32m~/.conda/envs/scenicNL/lib/python3.11/site-packages/lmql/api/queries.py:148\u001b[0m, in \u001b[0;36mquery.<locals>.lmql_query_wrapper\u001b[0;34m(*args, **kwargs)\u001b[0m\n\u001b[1;32m    146\u001b[0m \u001b[38;5;129m@wraps\u001b[39m(fct)\n\u001b[1;32m    147\u001b[0m \u001b[38;5;28;01mdef\u001b[39;00m \u001b[38;5;21mlmql_query_wrapper\u001b[39m(\u001b[38;5;241m*\u001b[39margs, \u001b[38;5;241m*\u001b[39m\u001b[38;5;241m*\u001b[39mkwargs):\n\u001b[0;32m--> 148\u001b[0m     \u001b[38;5;28;01mreturn\u001b[39;00m module\u001b[38;5;241m.\u001b[39mquery(\u001b[38;5;241m*\u001b[39margs, \u001b[38;5;241m*\u001b[39m\u001b[38;5;241m*\u001b[39mkwargs)\n",
      "File \u001b[0;32m~/.conda/envs/scenicNL/lib/python3.11/site-packages/lmql/runtime/lmql_runtime.py:204\u001b[0m, in \u001b[0;36mLMQLQueryFunction.__call__\u001b[0;34m(self, *args, **kwargs)\u001b[0m\n\u001b[1;32m    202\u001b[0m \u001b[38;5;28;01mdef\u001b[39;00m \u001b[38;5;21m__call__\u001b[39m(\u001b[38;5;28mself\u001b[39m, \u001b[38;5;241m*\u001b[39margs: Any, \u001b[38;5;241m*\u001b[39m\u001b[38;5;241m*\u001b[39mkwargs: Any) \u001b[38;5;241m-\u001b[39m\u001b[38;5;241m>\u001b[39m Any:\n\u001b[1;32m    203\u001b[0m     \u001b[38;5;28;01mif\u001b[39;00m \u001b[38;5;129;01mnot\u001b[39;00m \u001b[38;5;28mself\u001b[39m\u001b[38;5;241m.\u001b[39mis_async:\n\u001b[0;32m--> 204\u001b[0m         \u001b[38;5;28;01mreturn\u001b[39;00m call_sync(\u001b[38;5;28mself\u001b[39m, \u001b[38;5;241m*\u001b[39margs, \u001b[38;5;241m*\u001b[39m\u001b[38;5;241m*\u001b[39mkwargs)\n\u001b[1;32m    206\u001b[0m     \u001b[38;5;28;01mreturn\u001b[39;00m \u001b[38;5;28mself\u001b[39m\u001b[38;5;241m.\u001b[39m__acall__(\u001b[38;5;241m*\u001b[39margs, \u001b[38;5;241m*\u001b[39m\u001b[38;5;241m*\u001b[39mkwargs)\n",
      "File \u001b[0;32m~/.conda/envs/scenicNL/lib/python3.11/site-packages/lmql/runtime/loop.py:37\u001b[0m, in \u001b[0;36mcall_sync\u001b[0;34m(lmql_query_function, *args, **kwargs)\u001b[0m\n\u001b[1;32m     34\u001b[0m error \u001b[38;5;241m=\u001b[39m \u001b[38;5;28;01mNone\u001b[39;00m\n\u001b[1;32m     36\u001b[0m \u001b[38;5;28;01mtry\u001b[39;00m:\n\u001b[0;32m---> 37\u001b[0m     res \u001b[38;5;241m=\u001b[39m loop\u001b[38;5;241m.\u001b[39mrun_until_complete(task)\n\u001b[1;32m     38\u001b[0m \u001b[38;5;28;01mexcept\u001b[39;00m \u001b[38;5;167;01mRuntimeError\u001b[39;00m \u001b[38;5;28;01mas\u001b[39;00m e:\n\u001b[1;32m     39\u001b[0m     \u001b[38;5;28;01mif\u001b[39;00m \u001b[38;5;124m\"\u001b[39m\u001b[38;5;124mThis event loop is already running\u001b[39m\u001b[38;5;124m\"\u001b[39m \u001b[38;5;129;01min\u001b[39;00m \u001b[38;5;28mstr\u001b[39m(e) \u001b[38;5;129;01mor\u001b[39;00m \u001b[38;5;124m\"\u001b[39m\u001b[38;5;124mCannot run the event loop while another loop is running\u001b[39m\u001b[38;5;124m\"\u001b[39m \u001b[38;5;129;01min\u001b[39;00m \u001b[38;5;28mstr\u001b[39m(e):\n\u001b[1;32m     40\u001b[0m         \u001b[38;5;66;03m# try nested event loop\u001b[39;00m\n",
      "File \u001b[0;32m~/.conda/envs/scenicNL/lib/python3.11/site-packages/nest_asyncio.py:90\u001b[0m, in \u001b[0;36m_patch_loop.<locals>.run_until_complete\u001b[0;34m(self, future)\u001b[0m\n\u001b[1;32m     87\u001b[0m \u001b[38;5;28;01mif\u001b[39;00m \u001b[38;5;129;01mnot\u001b[39;00m f\u001b[38;5;241m.\u001b[39mdone():\n\u001b[1;32m     88\u001b[0m     \u001b[38;5;28;01mraise\u001b[39;00m \u001b[38;5;167;01mRuntimeError\u001b[39;00m(\n\u001b[1;32m     89\u001b[0m         \u001b[38;5;124m'\u001b[39m\u001b[38;5;124mEvent loop stopped before Future completed.\u001b[39m\u001b[38;5;124m'\u001b[39m)\n\u001b[0;32m---> 90\u001b[0m \u001b[38;5;28;01mreturn\u001b[39;00m f\u001b[38;5;241m.\u001b[39mresult()\n",
      "File \u001b[0;32m~/.conda/envs/scenicNL/lib/python3.11/asyncio/futures.py:203\u001b[0m, in \u001b[0;36mFuture.result\u001b[0;34m(self)\u001b[0m\n\u001b[1;32m    201\u001b[0m \u001b[38;5;28mself\u001b[39m\u001b[38;5;241m.\u001b[39m__log_traceback \u001b[38;5;241m=\u001b[39m \u001b[38;5;28;01mFalse\u001b[39;00m\n\u001b[1;32m    202\u001b[0m \u001b[38;5;28;01mif\u001b[39;00m \u001b[38;5;28mself\u001b[39m\u001b[38;5;241m.\u001b[39m_exception \u001b[38;5;129;01mis\u001b[39;00m \u001b[38;5;129;01mnot\u001b[39;00m \u001b[38;5;28;01mNone\u001b[39;00m:\n\u001b[0;32m--> 203\u001b[0m     \u001b[38;5;28;01mraise\u001b[39;00m \u001b[38;5;28mself\u001b[39m\u001b[38;5;241m.\u001b[39m_exception\u001b[38;5;241m.\u001b[39mwith_traceback(\u001b[38;5;28mself\u001b[39m\u001b[38;5;241m.\u001b[39m_exception_tb)\n\u001b[1;32m    204\u001b[0m \u001b[38;5;28;01mreturn\u001b[39;00m \u001b[38;5;28mself\u001b[39m\u001b[38;5;241m.\u001b[39m_result\n",
      "File \u001b[0;32m~/.conda/envs/scenicNL/lib/python3.11/asyncio/tasks.py:267\u001b[0m, in \u001b[0;36mTask.__step\u001b[0;34m(***failed resolving arguments***)\u001b[0m\n\u001b[1;32m    263\u001b[0m \u001b[38;5;28;01mtry\u001b[39;00m:\n\u001b[1;32m    264\u001b[0m     \u001b[38;5;28;01mif\u001b[39;00m exc \u001b[38;5;129;01mis\u001b[39;00m \u001b[38;5;28;01mNone\u001b[39;00m:\n\u001b[1;32m    265\u001b[0m         \u001b[38;5;66;03m# We use the `send` method directly, because coroutines\u001b[39;00m\n\u001b[1;32m    266\u001b[0m         \u001b[38;5;66;03m# don't have `__iter__` and `__next__` methods.\u001b[39;00m\n\u001b[0;32m--> 267\u001b[0m         result \u001b[38;5;241m=\u001b[39m coro\u001b[38;5;241m.\u001b[39msend(\u001b[38;5;28;01mNone\u001b[39;00m)\n\u001b[1;32m    268\u001b[0m     \u001b[38;5;28;01melse\u001b[39;00m:\n\u001b[1;32m    269\u001b[0m         result \u001b[38;5;241m=\u001b[39m coro\u001b[38;5;241m.\u001b[39mthrow(exc)\n",
      "File \u001b[0;32m~/.conda/envs/scenicNL/lib/python3.11/site-packages/lmql/runtime/lmql_runtime.py:211\u001b[0m, in \u001b[0;36mLMQLQueryFunction.__acall__\u001b[0;34m(self, *args, **kwargs)\u001b[0m\n\u001b[1;32m    208\u001b[0m \u001b[38;5;28;01masync\u001b[39;00m \u001b[38;5;28;01mdef\u001b[39;00m \u001b[38;5;21m__acall__\u001b[39m(\u001b[38;5;28mself\u001b[39m, \u001b[38;5;241m*\u001b[39margs, \u001b[38;5;241m*\u001b[39m\u001b[38;5;241m*\u001b[39mkwargs):\n\u001b[1;32m    209\u001b[0m     \u001b[38;5;28;01mfrom\u001b[39;00m \u001b[38;5;21;01mlmql\u001b[39;00m\u001b[38;5;21;01m.\u001b[39;00m\u001b[38;5;21;01mruntime\u001b[39;00m\u001b[38;5;21;01m.\u001b[39;00m\u001b[38;5;21;01minterpreter\u001b[39;00m \u001b[38;5;28;01mimport\u001b[39;00m PromptInterpreter\n\u001b[0;32m--> 211\u001b[0m     query_kwargs, runtime_args \u001b[38;5;241m=\u001b[39m \u001b[38;5;28mself\u001b[39m\u001b[38;5;241m.\u001b[39mmake_kwargs(\u001b[38;5;241m*\u001b[39margs, \u001b[38;5;241m*\u001b[39m\u001b[38;5;241m*\u001b[39mkwargs)\n\u001b[1;32m    213\u001b[0m     forced_model \u001b[38;5;241m=\u001b[39m \u001b[38;5;28mself\u001b[39m\u001b[38;5;241m.\u001b[39mmodel \u001b[38;5;129;01mor\u001b[39;00m runtime_args\u001b[38;5;241m.\u001b[39mget(\u001b[38;5;124m\"\u001b[39m\u001b[38;5;124mmodel\u001b[39m\u001b[38;5;124m\"\u001b[39m) \u001b[38;5;129;01mor\u001b[39;00m (\u001b[38;5;28mself\u001b[39m\u001b[38;5;241m.\u001b[39mextra_args \u001b[38;5;129;01mor\u001b[39;00m {})\u001b[38;5;241m.\u001b[39mget(\u001b[38;5;124m\"\u001b[39m\u001b[38;5;124mmodel\u001b[39m\u001b[38;5;124m\"\u001b[39m)\n\u001b[1;32m    214\u001b[0m     interpreter \u001b[38;5;241m=\u001b[39m PromptInterpreter(force_model\u001b[38;5;241m=\u001b[39mforced_model, name\u001b[38;5;241m=\u001b[39m\u001b[38;5;28mself\u001b[39m\u001b[38;5;241m.\u001b[39mname)\n",
      "File \u001b[0;32m~/.conda/envs/scenicNL/lib/python3.11/site-packages/lmql/runtime/lmql_runtime.py:196\u001b[0m, in \u001b[0;36mLMQLQueryFunction.make_kwargs\u001b[0;34m(self, *args, **kwargs)\u001b[0m\n\u001b[1;32m    194\u001b[0m \u001b[38;5;66;03m# disable this check for now, as dynamic variable resolution cannot always be checked at compile time (e.g. import * from module)\u001b[39;00m\n\u001b[1;32m    195\u001b[0m \u001b[38;5;28;01mif\u001b[39;00m \u001b[38;5;28mlen\u001b[39m(failed_to_resolve) \u001b[38;5;241m==\u001b[39m \u001b[38;5;241m1\u001b[39m:\n\u001b[0;32m--> 196\u001b[0m     \u001b[38;5;28;01mraise\u001b[39;00m \u001b[38;5;167;01mTypeError\u001b[39;00m(\u001b[38;5;124m\"\u001b[39m\u001b[38;5;124mFailed to resolve variable \u001b[39m\u001b[38;5;124m'\u001b[39m\u001b[38;5;124m\"\u001b[39m \u001b[38;5;241m+\u001b[39m failed_to_resolve[\u001b[38;5;241m0\u001b[39m] \u001b[38;5;241m+\u001b[39m \u001b[38;5;124m\"\u001b[39m\u001b[38;5;124m'\u001b[39m\u001b[38;5;124m in LMQL query.\u001b[39m\u001b[38;5;124m\"\u001b[39m)\n\u001b[1;32m    197\u001b[0m \u001b[38;5;28;01melif\u001b[39;00m \u001b[38;5;28mlen\u001b[39m(failed_to_resolve) \u001b[38;5;241m>\u001b[39m \u001b[38;5;241m0\u001b[39m:\n\u001b[1;32m    198\u001b[0m     \u001b[38;5;28;01mraise\u001b[39;00m \u001b[38;5;167;01mTypeError\u001b[39;00m(\u001b[38;5;124m\"\u001b[39m\u001b[38;5;124mFailed to resolve variables in LMQL query: \u001b[39m\u001b[38;5;124m\"\u001b[39m \u001b[38;5;241m+\u001b[39m \u001b[38;5;124m\"\u001b[39m\u001b[38;5;124m, \u001b[39m\u001b[38;5;124m\"\u001b[39m\u001b[38;5;241m.\u001b[39mjoin(\u001b[38;5;124mf\u001b[39m\u001b[38;5;124m\"\u001b[39m\u001b[38;5;124m'\u001b[39m\u001b[38;5;132;01m{\u001b[39;00mv\u001b[38;5;132;01m}\u001b[39;00m\u001b[38;5;124m'\u001b[39m\u001b[38;5;124m\"\u001b[39m \u001b[38;5;28;01mfor\u001b[39;00m v \u001b[38;5;129;01min\u001b[39;00m \u001b[38;5;28msorted\u001b[39m(failed_to_resolve)))\n",
      "\u001b[0;31mTypeError\u001b[0m: Failed to resolve variable 'all_vehicles' in LMQL query."
     ]
    }
   ],
   "source": [
    "ans = generate_text_description(text_description, scenic_program)\n",
    "# print(ans[\"CARLA_MAP_NAME\"])\n",
    "#print(ans[\"EGO_VEHICLE_SPEED\"])"
   ]
  },
  {
   "cell_type": "code",
   "execution_count": 16,
   "metadata": {},
   "outputs": [
    {
     "name": "stdout",
     "output_type": "stream",
     "text": [
      "10\n"
     ]
    }
   ],
   "source": [
    "print(ans[\"EGO_VEHICLE_SPEED\"])"
   ]
  },
  {
   "cell_type": "code",
   "execution_count": 14,
   "metadata": {},
   "outputs": [
    {
     "name": "stdout",
     "output_type": "stream",
     "text": [
      "\n",
      "\n",
      "# This is an example of a Scenic program: \"\"\" Scenario Description\n",
      "Traffic Scenario 01.\n",
      "Control loss without previous action.\n",
      "The ego-vehicle loses control due to bad conditions on the road and it must recover, coming back to\n",
      "its original lane.\n",
      "\"\"\"\n"
     ]
    }
   ],
   "source": [
    "print(ans[\"TEXT_DESCRIPTION\"])"
   ]
  },
  {
   "cell_type": "code",
   "execution_count": null,
   "metadata": {},
   "outputs": [],
   "source": []
  },
  {
   "cell_type": "code",
   "execution_count": 159,
   "metadata": {},
   "outputs": [],
   "source": [
    "#: blueprints for cars\n",
    "carModels = [\n",
    "    \"vehicle.audi.a2\",\n",
    "    \"vehicle.audi.etron\",\n",
    "    \"vehicle.audi.tt\",\n",
    "    \"vehicle.bmw.grandtourer\",\n",
    "    \"vehicle.chevrolet.impala\",\n",
    "    \"vehicle.citroen.c3\",\n",
    "    \"vehicle.dodge.charger_police\",\n",
    "    \"vehicle.jeep.wrangler_rubicon\",\n",
    "    \"vehicle.lincoln.mkz_2017\",\n",
    "    \"vehicle.mercedes.coupe\",\n",
    "    \"vehicle.mini.cooper_s\",\n",
    "    \"vehicle.ford.mustang\",\n",
    "    \"vehicle.nissan.micra\",\n",
    "    \"vehicle.nissan.patrol\",\n",
    "    \"vehicle.seat.leon\",\n",
    "    \"vehicle.tesla.model3\",\n",
    "    \"vehicle.toyota.prius\",\n",
    "    \"vehicle.volkswagen.t2\",\n",
    "]\n",
    "\n",
    "#: blueprints for bicycles\n",
    "bicycleModels = [\n",
    "    \"vehicle.bh.crossbike\",\n",
    "    \"vehicle.diamondback.century\",\n",
    "    \"vehicle.gazelle.omafiets\",\n",
    "]\n",
    "\n",
    "#: blueprints for motorcycles\n",
    "motorcycleModels = [\n",
    "    \"vehicle.harley-davidson.low_rider\",\n",
    "    \"vehicle.kawasaki.ninja\",\n",
    "    \"vehicle.yamaha.yzf\",\n",
    "]\n",
    "\n",
    "#: blueprints for trucks\n",
    "truckModels = [\n",
    "    \"vehicle.carlamotors.carlacola\",\n",
    "    \"vehicle.tesla.cybertruck\",\n",
    "]\n",
    "\n",
    "all_vehicles = set(carModels + bicycleModels + motorcycleModels + truckModels)"
   ]
  },
  {
   "cell_type": "code",
   "execution_count": 149,
   "metadata": {},
   "outputs": [],
   "source": [
    "#Notes \n",
    "#path_to_carla_map can be constructed knowing the map name"
   ]
  },
  {
   "cell_type": "code",
   "execution_count": null,
   "metadata": {},
   "outputs": [],
   "source": []
  }
 ],
 "metadata": {
  "kernelspec": {
   "display_name": "scenicNL",
   "language": "python",
   "name": "scenicnl"
  },
  "language_info": {
   "codemirror_mode": {
    "name": "ipython",
    "version": 3
   },
   "file_extension": ".py",
   "mimetype": "text/x-python",
   "name": "python",
   "nbconvert_exporter": "python",
   "pygments_lexer": "ipython3",
   "version": "3.11.5"
  }
 },
 "nbformat": 4,
 "nbformat_minor": 4
}
